{
 "cells": [
  {
   "cell_type": "code",
   "execution_count": 2,
   "metadata": {},
   "outputs": [],
   "source": [
    "from bs4 import BeautifulSoup\n",
    "import requests"
   ]
  },
  {
   "cell_type": "code",
   "execution_count": 25,
   "metadata": {},
   "outputs": [],
   "source": [
    "wc='http://stats.espncricinfo.com/ci/engine/records/team/match_results.html?id=1987%2F88;trophy=12;type=season'"
   ]
  },
  {
   "cell_type": "code",
   "execution_count": 26,
   "metadata": {},
   "outputs": [],
   "source": [
    "html = requests.get(wc)"
   ]
  },
  {
   "cell_type": "code",
   "execution_count": 27,
   "metadata": {},
   "outputs": [],
   "source": [
    "b = BeautifulSoup(html.content)"
   ]
  },
  {
   "cell_type": "code",
   "execution_count": 45,
   "metadata": {},
   "outputs": [],
   "source": [
    "years = b.find_all(class_='data-link')"
   ]
  },
  {
   "cell_type": "code",
   "execution_count": null,
   "metadata": {},
   "outputs": [],
   "source": []
  },
  {
   "cell_type": "code",
   "execution_count": 134,
   "metadata": {},
   "outputs": [],
   "source": [
    "Wc_data=[]\n",
    "for cell in years:\n",
    "    href = 'http://www.espncricinfo.com' + cell.attrs['href']\n",
    "    if href.find('/ci/engine/match/')!= -1:\n",
    "        html = requests.get(href)\n",
    "        b = BeautifulSoup(html.content)\n",
    "        toss= b.find_all(class_='match-detail--right')[1].text\n",
    "        toss=toss.split(',')\n",
    "        FI= toss[1].split()\n",
    "        FI=FI[2]\n",
    "        toss=toss[0]\n",
    "        team1=b.find_all(class_='accordion-header')[0].text.split()\n",
    "        team1=team1[0]\n",
    "        team2=b.find_all(class_='accordion-header')[1].text.split()\n",
    "        team2=team2[0]\n",
    "        Mom= b.find_all(class_='match-detail--right')[2].text\n",
    "        Winner= b.find_all(class_='cscore_commentary cscore_commentary--footer')[0].text.split()\n",
    "        Winner = Winner[0]\n",
    "        Wc_data.append([team1,team2,toss,FI,Winner,Mom])\n",
    "       \n",
    "        \n",
    "                \n",
    "        \n",
    "         \n",
    "\n"
   ]
  },
  {
   "cell_type": "code",
   "execution_count": 137,
   "metadata": {},
   "outputs": [],
   "source": [
    "import pandas as pd\n",
    "wc_88=pd.DataFrame(Wc_data)\n"
   ]
  },
  {
   "cell_type": "code",
   "execution_count": 165,
   "metadata": {},
   "outputs": [],
   "source": [
    "html = requests.get('http://stats.espncricinfo.com/ci/engine/records/team/match_results.html?id=1991%2F92;trophy=12;type=season')\n",
    "b = BeautifulSoup(html.content)\n",
    "\n",
    "years = b.find_all(class_='data-link')\n",
    "\n",
    "Wc_91=[]\n",
    "for cell in years:\n",
    "    href = 'http://www.espncricinfo.com' + cell.attrs['href']\n",
    "    if href.find('/ci/engine/match/')!= -1:\n",
    "        html = requests.get(href)\n",
    "        b = BeautifulSoup(html.content)\n",
    "        \n",
    "        \n",
    "        \n",
    "        Winner= b.find_all(class_='cscore_commentary cscore_commentary--footer')[0].text.split()\n",
    "        Winner = Winner[0]\n",
    "        \n",
    "        toss= b.find_all(class_='match-detail--right')[1].text\n",
    "        toss=toss.split(',')\n",
    "        FI= toss[1].split()\n",
    "        FI=FI[2]\n",
    "        toss=toss[0]\n",
    "        team1=b.find_all(class_='cscore_name cscore_name--long')[0].text\n",
    "        \n",
    "        team2=b.find_all(class_='cscore_name cscore_name--long')[1].text\n",
    "        \n",
    "        if Winner == 'No':\n",
    "            Mom = 0\n",
    "        else:\n",
    "            Mom= b.find_all(class_='match-detail--right')[2].text\n",
    "        \n",
    "        \n",
    "        \n",
    "        Wc_91.append([team1,team2,toss,FI,Winner,Mom])\n"
   ]
  },
  {
   "cell_type": "code",
   "execution_count": 167,
   "metadata": {},
   "outputs": [],
   "source": [
    "wc_91=pd.DataFrame(Wc_91)\n"
   ]
  },
  {
   "cell_type": "code",
   "execution_count": 187,
   "metadata": {},
   "outputs": [],
   "source": [
    "html = requests.get('http://stats.espncricinfo.com/ci/engine/records/team/match_results.html?id=1995%2F96;trophy=12;type=season')\n",
    "b = BeautifulSoup(html.content)\n",
    "\n",
    "years = b.find_all(class_='data-link')\n",
    "\n",
    "Wc_95=[]\n",
    "count=0\n",
    "for cell in years:\n",
    "    href = 'http://www.espncricinfo.com' + cell.attrs['href']\n",
    "    if href.find('/ci/engine/match/')!= -1:\n",
    "        count=count +1\n",
    "        html = requests.get(href)\n",
    "        b = BeautifulSoup(html.content)\n",
    "        \n",
    "        if count !=5 and count != 14:\n",
    "            Winner= b.find_all(class_='cscore_commentary cscore_commentary--footer')[0].text.split()\n",
    "            Winner = Winner[0]\n",
    "        \n",
    "            toss= b.find_all(class_='match-detail--right')[1].text\n",
    "            toss=toss.split(',')\n",
    "            FI= toss[1].split()\n",
    "            FI=FI[2]\n",
    "            toss=toss[0]\n",
    "            team1=b.find_all(class_='cscore_name cscore_name--long')[0].text\n",
    "        \n",
    "            team2=b.find_all(class_='cscore_name cscore_name--long')[1].text\n",
    "        \n",
    "            if Winner == 'No':\n",
    "                \n",
    "                Mom = 0\n",
    "            else:\n",
    "                Mom= b.find_all(class_='match-detail--right')[2].text\n",
    "            \n",
    "            Wc_95.append([team1,team2,toss,FI,Winner,Mom])\n",
    "        \n",
    "        \n",
    "            \n",
    "        \n",
    "        \n",
    "        \n",
    "        \n",
    "        \n",
    "        \n",
    "        \n",
    "       "
   ]
  },
  {
   "cell_type": "code",
   "execution_count": 189,
   "metadata": {},
   "outputs": [],
   "source": [
    "wc_95=pd.DataFrame(Wc_95)\n"
   ]
  },
  {
   "cell_type": "code",
   "execution_count": 190,
   "metadata": {},
   "outputs": [],
   "source": [
    "html = requests.get('http://stats.espncricinfo.com/ci/engine/records/team/match_results.html?id=1999;trophy=12;type=season')\n",
    "b = BeautifulSoup(html.content)\n",
    "\n",
    "years = b.find_all(class_='data-link')\n",
    "\n",
    "Wc_99=[]\n",
    "for cell in years:\n",
    "    href = 'http://www.espncricinfo.com' + cell.attrs['href']\n",
    "    if href.find('/ci/engine/match/')!= -1:\n",
    "        html = requests.get(href)\n",
    "        b = BeautifulSoup(html.content)\n",
    "        \n",
    "        \n",
    "        \n",
    "        Winner= b.find_all(class_='cscore_commentary cscore_commentary--footer')[0].text.split()\n",
    "        Winner = Winner[0]\n",
    "        \n",
    "        toss= b.find_all(class_='match-detail--right')[1].text\n",
    "        toss=toss.split(',')\n",
    "        FI= toss[1].split()\n",
    "        FI=FI[2]\n",
    "        toss=toss[0]\n",
    "        team1=b.find_all(class_='cscore_name cscore_name--long')[0].text\n",
    "        \n",
    "        team2=b.find_all(class_='cscore_name cscore_name--long')[1].text\n",
    "        \n",
    "        if Winner == 'No':\n",
    "            Mom = 0\n",
    "        else:\n",
    "            Mom= b.find_all(class_='match-detail--right')[2].text\n",
    "        \n",
    "        \n",
    "        \n",
    "        Wc_99.append([team1,team2,toss,FI,Winner,Mom])"
   ]
  },
  {
   "cell_type": "code",
   "execution_count": 192,
   "metadata": {},
   "outputs": [],
   "source": [
    "wc_99=pd.DataFrame(Wc_99)\n"
   ]
  },
  {
   "cell_type": "code",
   "execution_count": 193,
   "metadata": {},
   "outputs": [],
   "source": [
    "html = requests.get('http://stats.espncricinfo.com/ci/engine/records/team/match_results.html?id=2002%2F03;trophy=12;type=season')\n",
    "b = BeautifulSoup(html.content)\n",
    "\n",
    "years = b.find_all(class_='data-link')\n",
    "\n",
    "Wc_02=[]\n",
    "count=0\n",
    "for cell in years:\n",
    "    href = 'http://www.espncricinfo.com' + cell.attrs['href']\n",
    "    if href.find('/ci/engine/match/')!= -1:\n",
    "        count=count +1\n",
    "        html = requests.get(href)\n",
    "        b = BeautifulSoup(html.content)\n",
    "        \n",
    "        if count !=8 and count != 21:\n",
    "            Winner= b.find_all(class_='cscore_commentary cscore_commentary--footer')[0].text.split()\n",
    "            Winner = Winner[0]\n",
    "        \n",
    "            toss= b.find_all(class_='match-detail--right')[1].text\n",
    "            toss=toss.split(',')\n",
    "            FI= toss[1].split()\n",
    "            FI=FI[2]\n",
    "            toss=toss[0]\n",
    "            team1=b.find_all(class_='cscore_name cscore_name--long')[0].text\n",
    "        \n",
    "            team2=b.find_all(class_='cscore_name cscore_name--long')[1].text\n",
    "        \n",
    "            if Winner == 'No':\n",
    "                \n",
    "                Mom = 0\n",
    "            else:\n",
    "                Mom= b.find_all(class_='match-detail--right')[2].text\n",
    "            \n",
    "            Wc_02.append([team1,team2,toss,FI,Winner,Mom])\n",
    "        "
   ]
  },
  {
   "cell_type": "code",
   "execution_count": 195,
   "metadata": {},
   "outputs": [],
   "source": [
    "wc_02=pd.DataFrame(Wc_02)"
   ]
  },
  {
   "cell_type": "code",
   "execution_count": 198,
   "metadata": {},
   "outputs": [],
   "source": [
    "html = requests.get('http://stats.espncricinfo.com/ci/engine/records/team/match_results.html?id=2006%2F07;trophy=12;type=season')\n",
    "b = BeautifulSoup(html.content)\n",
    "\n",
    "years = b.find_all(class_='data-link')\n",
    "\n",
    "Wc_06=[]\n",
    "for cell in years:\n",
    "    href = 'http://www.espncricinfo.com' + cell.attrs['href']\n",
    "    if href.find('/ci/engine/match/')!= -1:\n",
    "        count=count +1\n",
    "        html = requests.get(href)\n",
    "        b = BeautifulSoup(html.content)\n",
    "        \n",
    "        if count !=3:\n",
    "            Winner= b.find_all(class_='cscore_commentary cscore_commentary--footer')[0].text.split()\n",
    "            Winner = Winner[0]\n",
    "        \n",
    "            toss= b.find_all(class_='match-detail--right')[1].text\n",
    "            toss=toss.split(',')\n",
    "            FI= toss[1].split()\n",
    "            FI=FI[2]\n",
    "            toss=toss[0]\n",
    "            team1=b.find_all(class_='cscore_name cscore_name--long')[0].text\n",
    "        \n",
    "            team2=b.find_all(class_='cscore_name cscore_name--long')[1].text\n",
    "        \n",
    "            if Winner == 'No':\n",
    "                \n",
    "                Mom = 0\n",
    "            else:\n",
    "                Mom= b.find_all(class_='match-detail--right')[2].text\n",
    "            \n",
    "            Wc_06.append([team1,team2,toss,FI,Winner,Mom])"
   ]
  },
  {
   "cell_type": "code",
   "execution_count": 207,
   "metadata": {},
   "outputs": [],
   "source": [
    "wc_06=pd.DataFrame(Wc_06)\n"
   ]
  },
  {
   "cell_type": "code",
   "execution_count": 201,
   "metadata": {},
   "outputs": [],
   "source": [
    "html = requests.get('http://stats.espncricinfo.com/ci/engine/records/team/match_results.html?id=2010%2F11;trophy=12;type=season')\n",
    "b = BeautifulSoup(html.content)\n",
    "\n",
    "years = b.find_all(class_='data-link')\n",
    "\n",
    "Wc_11=[]\n",
    "for cell in years:\n",
    "    href = 'http://www.espncricinfo.com' + cell.attrs['href']\n",
    "    if href.find('/ci/engine/match/')!= -1:\n",
    "        html = requests.get(href)\n",
    "        b = BeautifulSoup(html.content)\n",
    "        \n",
    "        \n",
    "        \n",
    "        Winner= b.find_all(class_='cscore_commentary cscore_commentary--footer')[0].text.split()\n",
    "        Winner = Winner[0]\n",
    "        \n",
    "        toss= b.find_all(class_='match-detail--right')[1].text\n",
    "        toss=toss.split(',')\n",
    "        FI= toss[1].split()\n",
    "        FI=FI[2]\n",
    "        toss=toss[0]\n",
    "        team1=b.find_all(class_='cscore_name cscore_name--long')[0].text\n",
    "        \n",
    "        team2=b.find_all(class_='cscore_name cscore_name--long')[1].text\n",
    "        \n",
    "        if Winner == 'No':\n",
    "            Mom = 0\n",
    "        else:\n",
    "            Mom= b.find_all(class_='match-detail--right')[2].text\n",
    "        \n",
    "        \n",
    "        \n",
    "        Wc_11.append([team1,team2,toss,FI,Winner,Mom])"
   ]
  },
  {
   "cell_type": "code",
   "execution_count": 204,
   "metadata": {},
   "outputs": [],
   "source": [
    "wc_11=pd.DataFrame(Wc_11)\n"
   ]
  },
  {
   "cell_type": "code",
   "execution_count": 208,
   "metadata": {},
   "outputs": [],
   "source": [
    "html = requests.get('http://stats.espncricinfo.com/ci/engine/records/team/match_results.html?id=2014%2F15;trophy=12;type=season')\n",
    "b = BeautifulSoup(html.content)\n",
    "\n",
    "years = b.find_all(class_='data-link')\n",
    "\n",
    "Wc_14=[]\n",
    "count=0\n",
    "for cell in years:\n",
    "    href = 'http://www.espncricinfo.com' + cell.attrs['href']\n",
    "    if href.find('/ci/engine/match/')!= -1:\n",
    "        count=count +1\n",
    "        html = requests.get(href)\n",
    "        b = BeautifulSoup(html.content)\n",
    "        \n",
    "        if count !=11:\n",
    "            Winner= b.find_all(class_='cscore_commentary cscore_commentary--footer')[0].text.split()\n",
    "            Winner = Winner[0]\n",
    "        \n",
    "            toss= b.find_all(class_='match-detail--right')[1].text\n",
    "            toss=toss.split(',')\n",
    "            FI= toss[1].split()\n",
    "            FI=FI[2]\n",
    "            toss=toss[0]\n",
    "            team1=b.find_all(class_='cscore_name cscore_name--long')[0].text\n",
    "        \n",
    "            team2=b.find_all(class_='cscore_name cscore_name--long')[1].text\n",
    "        \n",
    "            if Winner == 'No':\n",
    "                \n",
    "                Mom = 0\n",
    "            else:\n",
    "                Mom= b.find_all(class_='match-detail--right')[2].text\n",
    "            \n",
    "            Wc_14.append([team1,team2,toss,FI,Winner,Mom])"
   ]
  },
  {
   "cell_type": "code",
   "execution_count": 210,
   "metadata": {},
   "outputs": [],
   "source": [
    "wc_14=pd.DataFrame(Wc_14)\n"
   ]
  },
  {
   "cell_type": "code",
   "execution_count": 214,
   "metadata": {},
   "outputs": [
    {
     "data": {
      "text/html": [
       "<div>\n",
       "<style scoped>\n",
       "    .dataframe tbody tr th:only-of-type {\n",
       "        vertical-align: middle;\n",
       "    }\n",
       "\n",
       "    .dataframe tbody tr th {\n",
       "        vertical-align: top;\n",
       "    }\n",
       "\n",
       "    .dataframe thead th {\n",
       "        text-align: right;\n",
       "    }\n",
       "</style>\n",
       "<table border=\"1\" class=\"dataframe\">\n",
       "  <thead>\n",
       "    <tr style=\"text-align: right;\">\n",
       "      <th></th>\n",
       "      <th>0</th>\n",
       "      <th>1</th>\n",
       "      <th>2</th>\n",
       "      <th>3</th>\n",
       "      <th>4</th>\n",
       "      <th>5</th>\n",
       "      <th>Year</th>\n",
       "    </tr>\n",
       "  </thead>\n",
       "  <tbody>\n",
       "    <tr>\n",
       "      <th>0</th>\n",
       "      <td>New Zealand</td>\n",
       "      <td>Australia</td>\n",
       "      <td>New Zealand</td>\n",
       "      <td>bat</td>\n",
       "      <td>New</td>\n",
       "      <td>Martin Crowe</td>\n",
       "      <td>1991</td>\n",
       "    </tr>\n",
       "    <tr>\n",
       "      <th>1</th>\n",
       "      <td>England</td>\n",
       "      <td>India</td>\n",
       "      <td>England</td>\n",
       "      <td>bat</td>\n",
       "      <td>England</td>\n",
       "      <td>Sir Ian Botham</td>\n",
       "      <td>1991</td>\n",
       "    </tr>\n",
       "    <tr>\n",
       "      <th>2</th>\n",
       "      <td>Zimbabwe</td>\n",
       "      <td>Sri Lanka</td>\n",
       "      <td>Sri Lanka</td>\n",
       "      <td>field</td>\n",
       "      <td>Sri</td>\n",
       "      <td>Andy Flower</td>\n",
       "      <td>1991</td>\n",
       "    </tr>\n",
       "    <tr>\n",
       "      <th>3</th>\n",
       "      <td>Pakistan</td>\n",
       "      <td>West Indies</td>\n",
       "      <td>West Indies</td>\n",
       "      <td>field</td>\n",
       "      <td>West</td>\n",
       "      <td>Brian Lara</td>\n",
       "      <td>1991</td>\n",
       "    </tr>\n",
       "    <tr>\n",
       "      <th>4</th>\n",
       "      <td>Sri Lanka</td>\n",
       "      <td>New Zealand</td>\n",
       "      <td>New Zealand</td>\n",
       "      <td>field</td>\n",
       "      <td>New</td>\n",
       "      <td>Ken Rutherford</td>\n",
       "      <td>1991</td>\n",
       "    </tr>\n",
       "  </tbody>\n",
       "</table>\n",
       "</div>"
      ],
      "text/plain": [
       "             0            1             2      3        4               5  \\\n",
       "0  New Zealand    Australia  New Zealand     bat      New    Martin Crowe   \n",
       "1      England        India      England     bat  England  Sir Ian Botham   \n",
       "2     Zimbabwe    Sri Lanka    Sri Lanka   field      Sri     Andy Flower   \n",
       "3     Pakistan  West Indies  West Indies   field     West      Brian Lara   \n",
       "4    Sri Lanka  New Zealand  New Zealand   field      New  Ken Rutherford   \n",
       "\n",
       "   Year  \n",
       "0  1991  \n",
       "1  1991  \n",
       "2  1991  \n",
       "3  1991  \n",
       "4  1991  "
      ]
     },
     "execution_count": 214,
     "metadata": {},
     "output_type": "execute_result"
    }
   ],
   "source": [
    "wc_91['Year']= 1991\n",
    "wc_95['Year']= 1995\n",
    "wc_99['Year']= 1999\n",
    "wc_02['Year']= 2003\n",
    "wc_06['Year']= 2007\n",
    "wc_11['Year']= 2011\n",
    "wc_14['Year']= 2015\n",
    "wc_total = pd.concat([wc_91,wc_95,wc_99,wc_02,wc_06,wc_11,wc_14])\n"
   ]
  },
  {
   "cell_type": "code",
   "execution_count": 217,
   "metadata": {},
   "outputs": [],
   "source": [
    "wc_total.columns=['Team1','Team2','Toss_won','Toss_Decesion','Tean_won','MoM','Year']"
   ]
  },
  {
   "cell_type": "code",
   "execution_count": 296,
   "metadata": {},
   "outputs": [
    {
     "data": {
      "text/plain": [
       "242"
      ]
     },
     "execution_count": 296,
     "metadata": {},
     "output_type": "execute_result"
    }
   ],
   "source": [
    "wc_total[wc_total['Year']>1995]['MoM'].count()\n"
   ]
  },
  {
   "cell_type": "code",
   "execution_count": 309,
   "metadata": {},
   "outputs": [],
   "source": [
    "\n",
    "role =[]\n",
    "wc_total['role']= 0\n",
    "for cell in wc_total['MoM']:\n",
    "         \n",
    "    if cell != 0:\n",
    "        \n",
    "        href = 'https://en.wikipedia.org/wiki/' + cell\n",
    "        html = requests.get(href)\n",
    "        b = BeautifulSoup(html.content)\n",
    "    \n",
    "    #print(b.find_all(class_='mw-parser-output')[0].find('may refer to'))\n",
    "    \n",
    "        if len(b.find_all(class_='role')) < 1  :\n",
    "            href = 'https://en.wikipedia.org/wiki/' + cell + '_(cricketer)'\n",
    "        \n",
    "            html = requests.get(href)\n",
    "            b = BeautifulSoup(html.content)\n",
    "            if len(b.find_all(class_='role')) <1:\n",
    "                ro='Manual'\n",
    "                \n",
    "            else:\n",
    "                ro= b.find_all(class_='role')[0].text\n",
    "        \n",
    "        \n",
    "        \n",
    "        else:\n",
    "        \n",
    "            ro= b.find_all(class_='role')[0].text\n",
    "        \n",
    "    else:\n",
    "        \n",
    "        ro = 'Na'\n",
    "        \n",
    "    \n",
    "   \n",
    "    role.append([ro])\n",
    "   \n",
    "\n"
   ]
  },
  {
   "cell_type": "code",
   "execution_count": 310,
   "metadata": {},
   "outputs": [
    {
     "data": {
      "text/plain": [
       "(317, 1)"
      ]
     },
     "execution_count": 310,
     "metadata": {},
     "output_type": "execute_result"
    }
   ],
   "source": [
    "a=pd.DataFrame(role)\n",
    "a.shape"
   ]
  },
  {
   "cell_type": "code",
   "execution_count": 312,
   "metadata": {},
   "outputs": [],
   "source": [
    "wc_total['role']=a"
   ]
  },
  {
   "cell_type": "code",
   "execution_count": 329,
   "metadata": {},
   "outputs": [
    {
     "data": {
      "text/plain": [
       "(317, 8)"
      ]
     },
     "execution_count": 329,
     "metadata": {},
     "output_type": "execute_result"
    }
   ],
   "source": [
    "wc_total.shape"
   ]
  },
  {
   "cell_type": "code",
   "execution_count": 348,
   "metadata": {},
   "outputs": [],
   "source": [
    "b=a.set_index(wc_total.index)"
   ]
  },
  {
   "cell_type": "code",
   "execution_count": 340,
   "metadata": {},
   "outputs": [],
   "source": [
    "wc_total.drop('role',axis=1,inplace=True)"
   ]
  },
  {
   "cell_type": "code",
   "execution_count": 343,
   "metadata": {},
   "outputs": [
    {
     "data": {
      "text/plain": [
       "(317, 7)"
      ]
     },
     "execution_count": 343,
     "metadata": {},
     "output_type": "execute_result"
    }
   ],
   "source": [
    "wc_total.shape"
   ]
  },
  {
   "cell_type": "code",
   "execution_count": 352,
   "metadata": {},
   "outputs": [],
   "source": [
    "wc_total['role']=b\n"
   ]
  },
  {
   "cell_type": "code",
   "execution_count": 460,
   "metadata": {},
   "outputs": [
    {
     "data": {
      "text/html": [
       "<div>\n",
       "<style scoped>\n",
       "    .dataframe tbody tr th:only-of-type {\n",
       "        vertical-align: middle;\n",
       "    }\n",
       "\n",
       "    .dataframe tbody tr th {\n",
       "        vertical-align: top;\n",
       "    }\n",
       "\n",
       "    .dataframe thead th {\n",
       "        text-align: right;\n",
       "    }\n",
       "</style>\n",
       "<table border=\"1\" class=\"dataframe\">\n",
       "  <thead>\n",
       "    <tr style=\"text-align: right;\">\n",
       "      <th></th>\n",
       "      <th>Team1</th>\n",
       "      <th>Team2</th>\n",
       "      <th>Toss_won</th>\n",
       "      <th>Toss_Decesion</th>\n",
       "      <th>Tean_won</th>\n",
       "      <th>MoM</th>\n",
       "      <th>Year</th>\n",
       "      <th>role</th>\n",
       "    </tr>\n",
       "  </thead>\n",
       "  <tbody>\n",
       "    <tr>\n",
       "      <th>0</th>\n",
       "      <td>New Zealand</td>\n",
       "      <td>Australia</td>\n",
       "      <td>New Zealand</td>\n",
       "      <td>bat</td>\n",
       "      <td>New Zealand</td>\n",
       "      <td>Martin Crowe</td>\n",
       "      <td>1991</td>\n",
       "      <td>Batsman</td>\n",
       "    </tr>\n",
       "    <tr>\n",
       "      <th>1</th>\n",
       "      <td>England</td>\n",
       "      <td>India</td>\n",
       "      <td>England</td>\n",
       "      <td>bat</td>\n",
       "      <td>England</td>\n",
       "      <td>Sir Ian Botham</td>\n",
       "      <td>1991</td>\n",
       "      <td>All-rounder</td>\n",
       "    </tr>\n",
       "    <tr>\n",
       "      <th>2</th>\n",
       "      <td>Zimbabwe</td>\n",
       "      <td>Sri Lanka</td>\n",
       "      <td>Sri Lanka</td>\n",
       "      <td>field</td>\n",
       "      <td>Sri Lanka</td>\n",
       "      <td>Andy Flower</td>\n",
       "      <td>1991</td>\n",
       "      <td>Wicket-keeper</td>\n",
       "    </tr>\n",
       "    <tr>\n",
       "      <th>3</th>\n",
       "      <td>Pakistan</td>\n",
       "      <td>West Indies</td>\n",
       "      <td>West Indies</td>\n",
       "      <td>field</td>\n",
       "      <td>West Indies</td>\n",
       "      <td>Brian Lara</td>\n",
       "      <td>1991</td>\n",
       "      <td>Batsman</td>\n",
       "    </tr>\n",
       "    <tr>\n",
       "      <th>4</th>\n",
       "      <td>Sri Lanka</td>\n",
       "      <td>New Zealand</td>\n",
       "      <td>New Zealand</td>\n",
       "      <td>field</td>\n",
       "      <td>New Zealand</td>\n",
       "      <td>Ken Rutherford</td>\n",
       "      <td>1991</td>\n",
       "      <td>Batsman</td>\n",
       "    </tr>\n",
       "  </tbody>\n",
       "</table>\n",
       "</div>"
      ],
      "text/plain": [
       "         Team1        Team2      Toss_won Toss_Decesion     Tean_won  \\\n",
       "0  New Zealand    Australia  New Zealand            bat  New Zealand   \n",
       "1      England        India      England            bat      England   \n",
       "2     Zimbabwe    Sri Lanka    Sri Lanka          field    Sri Lanka   \n",
       "3     Pakistan  West Indies  West Indies          field  West Indies   \n",
       "4    Sri Lanka  New Zealand  New Zealand          field  New Zealand   \n",
       "\n",
       "              MoM  Year           role  \n",
       "0    Martin Crowe  1991        Batsman  \n",
       "1  Sir Ian Botham  1991    All-rounder  \n",
       "2     Andy Flower  1991  Wicket-keeper  \n",
       "3      Brian Lara  1991        Batsman  \n",
       "4  Ken Rutherford  1991        Batsman  "
      ]
     },
     "execution_count": 460,
     "metadata": {},
     "output_type": "execute_result"
    }
   ],
   "source": [
    "WC_hist= pd.read_csv('WC_hist.csv')\n",
    "\n",
    "WC_hist.head()"
   ]
  },
  {
   "cell_type": "code",
   "execution_count": null,
   "metadata": {},
   "outputs": [],
   "source": []
  },
  {
   "cell_type": "code",
   "execution_count": 461,
   "metadata": {},
   "outputs": [],
   "source": [
    "WC_hist.loc[WC_hist['role'].str.contains('Batsman'),'role']='Batsman'\n",
    "WC_hist.loc[WC_hist['role'].str.contains('Batsmen'),'role']='Batsman'\n",
    "WC_hist.loc[WC_hist['role'].str.contains('batsman'),'role']='Batsman'\n",
    "WC_hist.loc[WC_hist['role'].str.contains('Wicket-keeper'),'role']='Batsman'\n",
    "WC_hist.loc[WC_hist['role'].str.contains('Opener'),'role']='Batsman'"
   ]
  },
  {
   "cell_type": "code",
   "execution_count": 462,
   "metadata": {},
   "outputs": [],
   "source": [
    "WC_hist.loc[WC_hist['role'].str.contains('Bowler'),'role']='Bowler'\n",
    "WC_hist.loc[WC_hist['role'].str.contains('bowler'),'role']='Bowler'\n",
    "WC_hist.loc[WC_hist['role'].str.contains('Bowling'),'role']='Bowler'\n",
    "\n",
    "WC_hist.loc[WC_hist['role'].str.contains('All-rounder'),'role']='All-rounder'"
   ]
  },
  {
   "cell_type": "code",
   "execution_count": 463,
   "metadata": {},
   "outputs": [],
   "source": [
    "WC_hist.loc[WC_hist['role'].str.contains('Elite Panel of ICC Referees'),'role']='Batsman'"
   ]
  },
  {
   "cell_type": "code",
   "execution_count": 464,
   "metadata": {},
   "outputs": [],
   "source": [
    "WC_hist.loc[WC_hist['role'].str.contains('Wicketkeeper'),'role']='Batsman'\n",
    "WC_hist.loc[WC_hist['role'].str.contains('Bowl'),'role']='Bowler'\n",
    "WC_hist.loc[WC_hist['role'].str.contains('all-rounder'),'role']='All-rounder'\n",
    "WC_hist.loc[WC_hist['role'].str.contains('All Rounder'),'role']='All-rounder'"
   ]
  },
  {
   "cell_type": "code",
   "execution_count": 465,
   "metadata": {},
   "outputs": [
    {
     "data": {
      "text/plain": [
       "array(['Batsman', 'All-rounder', 'Na', 'Bowler', 'Coach:', 'All rounder'],\n",
       "      dtype=object)"
      ]
     },
     "execution_count": 465,
     "metadata": {},
     "output_type": "execute_result"
    }
   ],
   "source": [
    "WC_hist['role'].unique()"
   ]
  },
  {
   "cell_type": "code",
   "execution_count": 466,
   "metadata": {},
   "outputs": [
    {
     "data": {
      "text/html": [
       "<div>\n",
       "<style scoped>\n",
       "    .dataframe tbody tr th:only-of-type {\n",
       "        vertical-align: middle;\n",
       "    }\n",
       "\n",
       "    .dataframe tbody tr th {\n",
       "        vertical-align: top;\n",
       "    }\n",
       "\n",
       "    .dataframe thead th {\n",
       "        text-align: right;\n",
       "    }\n",
       "</style>\n",
       "<table border=\"1\" class=\"dataframe\">\n",
       "  <thead>\n",
       "    <tr style=\"text-align: right;\">\n",
       "      <th></th>\n",
       "      <th>Team1</th>\n",
       "      <th>Team2</th>\n",
       "      <th>Toss_won</th>\n",
       "      <th>Toss_Decesion</th>\n",
       "      <th>Tean_won</th>\n",
       "      <th>MoM</th>\n",
       "      <th>Year</th>\n",
       "      <th>role</th>\n",
       "    </tr>\n",
       "  </thead>\n",
       "  <tbody>\n",
       "    <tr>\n",
       "      <th>42</th>\n",
       "      <td>New Zealand</td>\n",
       "      <td>Netherlands</td>\n",
       "      <td>New Zealand</td>\n",
       "      <td>bat</td>\n",
       "      <td>New Zealand</td>\n",
       "      <td>Craig Spearman</td>\n",
       "      <td>1995</td>\n",
       "      <td>Coach:</td>\n",
       "    </tr>\n",
       "    <tr>\n",
       "      <th>67</th>\n",
       "      <td>Pakistan</td>\n",
       "      <td>New Zealand</td>\n",
       "      <td>New Zealand</td>\n",
       "      <td>field</td>\n",
       "      <td>Pakistan</td>\n",
       "      <td>Saleem Malik</td>\n",
       "      <td>1995</td>\n",
       "      <td>Coach:</td>\n",
       "    </tr>\n",
       "    <tr>\n",
       "      <th>91</th>\n",
       "      <td>Bangladesh</td>\n",
       "      <td>Scotland</td>\n",
       "      <td>Scotland</td>\n",
       "      <td>field</td>\n",
       "      <td>Bangladesh</td>\n",
       "      <td>Minhajul Abedin</td>\n",
       "      <td>1999</td>\n",
       "      <td>Coach:</td>\n",
       "    </tr>\n",
       "    <tr>\n",
       "      <th>104</th>\n",
       "      <td>Scotland</td>\n",
       "      <td>New Zealand</td>\n",
       "      <td>New Zealand</td>\n",
       "      <td>field</td>\n",
       "      <td>New Zealand</td>\n",
       "      <td>Geoff Allott</td>\n",
       "      <td>1999</td>\n",
       "      <td>Coach:</td>\n",
       "    </tr>\n",
       "    <tr>\n",
       "      <th>111</th>\n",
       "      <td>Pakistan</td>\n",
       "      <td>Zimbabwe</td>\n",
       "      <td>Pakistan</td>\n",
       "      <td>bat</td>\n",
       "      <td>Pakistan</td>\n",
       "      <td>Saeed Anwar</td>\n",
       "      <td>1999</td>\n",
       "      <td>Coach:</td>\n",
       "    </tr>\n",
       "    <tr>\n",
       "      <th>165</th>\n",
       "      <td>Kenya</td>\n",
       "      <td>Australia</td>\n",
       "      <td>Australia</td>\n",
       "      <td>field</td>\n",
       "      <td>Australia</td>\n",
       "      <td>Aasif Karim</td>\n",
       "      <td>2003</td>\n",
       "      <td>Coach:</td>\n",
       "    </tr>\n",
       "  </tbody>\n",
       "</table>\n",
       "</div>"
      ],
      "text/plain": [
       "           Team1        Team2      Toss_won Toss_Decesion     Tean_won  \\\n",
       "42   New Zealand  Netherlands  New Zealand            bat  New Zealand   \n",
       "67      Pakistan  New Zealand  New Zealand          field     Pakistan   \n",
       "91    Bangladesh     Scotland     Scotland          field   Bangladesh   \n",
       "104     Scotland  New Zealand  New Zealand          field  New Zealand   \n",
       "111     Pakistan     Zimbabwe     Pakistan            bat     Pakistan   \n",
       "165        Kenya    Australia    Australia          field    Australia   \n",
       "\n",
       "                 MoM  Year    role  \n",
       "42    Craig Spearman  1995  Coach:  \n",
       "67      Saleem Malik  1995  Coach:  \n",
       "91   Minhajul Abedin  1999  Coach:  \n",
       "104     Geoff Allott  1999  Coach:  \n",
       "111      Saeed Anwar  1999  Coach:  \n",
       "165      Aasif Karim  2003  Coach:  "
      ]
     },
     "execution_count": 466,
     "metadata": {},
     "output_type": "execute_result"
    }
   ],
   "source": [
    "WC_hist[WC_hist['role'].str.contains('Coach')]"
   ]
  },
  {
   "cell_type": "code",
   "execution_count": 467,
   "metadata": {},
   "outputs": [],
   "source": [
    "WC_hist.loc[WC_hist['MoM']=='Craig Spearman','role']= 'Batsman'"
   ]
  },
  {
   "cell_type": "code",
   "execution_count": 468,
   "metadata": {},
   "outputs": [],
   "source": [
    "WC_hist.loc[WC_hist['MoM']=='Saleem Malik','role']= 'Batsman'"
   ]
  },
  {
   "cell_type": "code",
   "execution_count": 469,
   "metadata": {},
   "outputs": [],
   "source": [
    "WC_hist.loc[WC_hist['MoM']=='Minhajul Abedin','role']= 'Batsman'"
   ]
  },
  {
   "cell_type": "code",
   "execution_count": 470,
   "metadata": {},
   "outputs": [],
   "source": [
    "WC_hist.loc[WC_hist['MoM']=='Saeed Anwar','role']= 'Bowler'"
   ]
  },
  {
   "cell_type": "code",
   "execution_count": 471,
   "metadata": {},
   "outputs": [],
   "source": [
    "WC_hist.loc[WC_hist['MoM']=='Geoff Allott','role']= 'Bowler'"
   ]
  },
  {
   "cell_type": "code",
   "execution_count": 472,
   "metadata": {},
   "outputs": [],
   "source": [
    "WC_hist.loc[WC_hist['MoM']=='Aasif Karim','role']= 'Bowler'"
   ]
  },
  {
   "cell_type": "code",
   "execution_count": 473,
   "metadata": {},
   "outputs": [
    {
     "data": {
      "text/plain": [
       "array(['Batsman', 'All-rounder', 'Na', 'Bowler', 'All rounder'],\n",
       "      dtype=object)"
      ]
     },
     "execution_count": 473,
     "metadata": {},
     "output_type": "execute_result"
    }
   ],
   "source": [
    "WC_hist['role'].unique()"
   ]
  },
  {
   "cell_type": "code",
   "execution_count": 474,
   "metadata": {},
   "outputs": [],
   "source": [
    "WC_hist.drop(index=[8,12,52,107,131,155,239],inplace=True)"
   ]
  },
  {
   "cell_type": "code",
   "execution_count": 475,
   "metadata": {},
   "outputs": [
    {
     "data": {
      "text/plain": [
       "array(['Batsman', 'All-rounder', 'Bowler', 'All rounder'], dtype=object)"
      ]
     },
     "execution_count": 475,
     "metadata": {},
     "output_type": "execute_result"
    }
   ],
   "source": [
    "WC_hist['role'].unique()"
   ]
  },
  {
   "cell_type": "code",
   "execution_count": 490,
   "metadata": {},
   "outputs": [
    {
     "data": {
      "text/html": [
       "<div>\n",
       "<style scoped>\n",
       "    .dataframe tbody tr th:only-of-type {\n",
       "        vertical-align: middle;\n",
       "    }\n",
       "\n",
       "    .dataframe tbody tr th {\n",
       "        vertical-align: top;\n",
       "    }\n",
       "\n",
       "    .dataframe thead th {\n",
       "        text-align: right;\n",
       "    }\n",
       "</style>\n",
       "<table border=\"1\" class=\"dataframe\">\n",
       "  <thead>\n",
       "    <tr style=\"text-align: right;\">\n",
       "      <th></th>\n",
       "      <th>Team1</th>\n",
       "      <th>Team2</th>\n",
       "      <th>Toss_won</th>\n",
       "      <th>Toss_Decesion</th>\n",
       "      <th>Tean_won</th>\n",
       "      <th>MoM</th>\n",
       "      <th>Year</th>\n",
       "      <th>role</th>\n",
       "    </tr>\n",
       "  </thead>\n",
       "  <tbody>\n",
       "    <tr>\n",
       "      <th>270</th>\n",
       "      <td>Australia</td>\n",
       "      <td>England</td>\n",
       "      <td>England</td>\n",
       "      <td>field</td>\n",
       "      <td>Australia</td>\n",
       "      <td>Aaron Finch</td>\n",
       "      <td>2015</td>\n",
       "      <td>Batsman</td>\n",
       "    </tr>\n",
       "    <tr>\n",
       "      <th>293</th>\n",
       "      <td>Australia</td>\n",
       "      <td>Afghanistan</td>\n",
       "      <td>Afghanistan</td>\n",
       "      <td>field</td>\n",
       "      <td>Australia</td>\n",
       "      <td>David Warner</td>\n",
       "      <td>2015</td>\n",
       "      <td>Batsman</td>\n",
       "    </tr>\n",
       "    <tr>\n",
       "      <th>299</th>\n",
       "      <td>Australia</td>\n",
       "      <td>Sri Lanka</td>\n",
       "      <td>Australia</td>\n",
       "      <td>bat</td>\n",
       "      <td>Australia</td>\n",
       "      <td>Glenn Maxwell</td>\n",
       "      <td>2015</td>\n",
       "      <td>All-rounder</td>\n",
       "    </tr>\n",
       "    <tr>\n",
       "      <th>307</th>\n",
       "      <td>Scotland</td>\n",
       "      <td>Australia</td>\n",
       "      <td>Australia</td>\n",
       "      <td>field</td>\n",
       "      <td>Australia</td>\n",
       "      <td>Mitchell Starc</td>\n",
       "      <td>2015</td>\n",
       "      <td>Bowler</td>\n",
       "    </tr>\n",
       "    <tr>\n",
       "      <th>312</th>\n",
       "      <td>Pakistan</td>\n",
       "      <td>Australia</td>\n",
       "      <td>Pakistan</td>\n",
       "      <td>bat</td>\n",
       "      <td>Australia</td>\n",
       "      <td>Josh Hazlewood</td>\n",
       "      <td>2015</td>\n",
       "      <td>Bowler</td>\n",
       "    </tr>\n",
       "    <tr>\n",
       "      <th>315</th>\n",
       "      <td>Australia</td>\n",
       "      <td>India</td>\n",
       "      <td>Australia</td>\n",
       "      <td>bat</td>\n",
       "      <td>Australia</td>\n",
       "      <td>Steven Smith</td>\n",
       "      <td>2015</td>\n",
       "      <td>Batsman</td>\n",
       "    </tr>\n",
       "    <tr>\n",
       "      <th>316</th>\n",
       "      <td>New Zealand</td>\n",
       "      <td>Australia</td>\n",
       "      <td>New Zealand</td>\n",
       "      <td>bat</td>\n",
       "      <td>Australia</td>\n",
       "      <td>James Faulkner</td>\n",
       "      <td>2015</td>\n",
       "      <td>Bowler</td>\n",
       "    </tr>\n",
       "  </tbody>\n",
       "</table>\n",
       "</div>"
      ],
      "text/plain": [
       "           Team1        Team2      Toss_won Toss_Decesion   Tean_won  \\\n",
       "270    Australia      England      England          field  Australia   \n",
       "293    Australia  Afghanistan  Afghanistan          field  Australia   \n",
       "299    Australia    Sri Lanka    Australia            bat  Australia   \n",
       "307     Scotland    Australia    Australia          field  Australia   \n",
       "312     Pakistan    Australia     Pakistan            bat  Australia   \n",
       "315    Australia        India    Australia            bat  Australia   \n",
       "316  New Zealand    Australia  New Zealand            bat  Australia   \n",
       "\n",
       "                MoM  Year         role  \n",
       "270     Aaron Finch  2015      Batsman  \n",
       "293    David Warner  2015      Batsman  \n",
       "299   Glenn Maxwell  2015  All-rounder  \n",
       "307  Mitchell Starc  2015       Bowler  \n",
       "312  Josh Hazlewood  2015       Bowler  \n",
       "315    Steven Smith  2015      Batsman  \n",
       "316  James Faulkner  2015       Bowler  "
      ]
     },
     "execution_count": 490,
     "metadata": {},
     "output_type": "execute_result"
    }
   ],
   "source": [
    "WC_hist[(WC_hist['Year']==2015)&(WC_hist['Tean_won']=='Australia')]"
   ]
  },
  {
   "cell_type": "code",
   "execution_count": 486,
   "metadata": {},
   "outputs": [],
   "source": [
    "#Win percentage\n",
    "\n",
    "win_91=(6/9)\n",
    "win_95=(6/8)\n",
    "win_99=(7/10)\n",
    "win_03=(11/11)\n",
    "win_07=(11/11)\n",
    "win_11=(7/9)\n",
    "win_15=(7/8)\n",
    "\n"
   ]
  },
  {
   "cell_type": "code",
   "execution_count": null,
   "metadata": {},
   "outputs": [],
   "source": []
  },
  {
   "cell_type": "code",
   "execution_count": 703,
   "metadata": {},
   "outputs": [
    {
     "data": {
      "text/html": [
       "<div>\n",
       "<style scoped>\n",
       "    .dataframe tbody tr th:only-of-type {\n",
       "        vertical-align: middle;\n",
       "    }\n",
       "\n",
       "    .dataframe tbody tr th {\n",
       "        vertical-align: top;\n",
       "    }\n",
       "\n",
       "    .dataframe thead th {\n",
       "        text-align: right;\n",
       "    }\n",
       "</style>\n",
       "<table border=\"1\" class=\"dataframe\">\n",
       "  <thead>\n",
       "    <tr style=\"text-align: right;\">\n",
       "      <th></th>\n",
       "      <th>0</th>\n",
       "      <th>1</th>\n",
       "    </tr>\n",
       "  </thead>\n",
       "  <tbody>\n",
       "    <tr>\n",
       "      <th>36</th>\n",
       "      <td>New Zealand</td>\n",
       "      <td>Pakistan</td>\n",
       "    </tr>\n",
       "    <tr>\n",
       "      <th>37</th>\n",
       "      <td>England</td>\n",
       "      <td>South Africa</td>\n",
       "    </tr>\n",
       "  </tbody>\n",
       "</table>\n",
       "</div>"
      ],
      "text/plain": [
       "              0             1\n",
       "36  New Zealand      Pakistan\n",
       "37      England  South Africa"
      ]
     },
     "execution_count": 703,
     "metadata": {},
     "output_type": "execute_result"
    }
   ],
   "source": [
    "#Teams Reaching Semi finals\n",
    "\n",
    "sem_91=wc_91[[0,1]].tail(3).drop(38)\n",
    "\n",
    "sem_95=wc_95[[0,1]].tail(3).drop(35)\n",
    "\n",
    "sem_99=wc_99[[0,1]].tail(3).drop(41)\n",
    "\n",
    "sem_02=wc_02[[0,1]].tail(3).drop(51)\n",
    "\n",
    "sem_06=wc_06[[0,1]].tail(3).drop(50)\n",
    "\n",
    "sem_11=wc_11[[0,1]].tail(3).drop(48)\n",
    "\n",
    "sem_14=wc_14[[0,1]].tail(3).drop(47)\n",
    "\n"
   ]
  },
  {
   "cell_type": "code",
   "execution_count": 675,
   "metadata": {},
   "outputs": [
    {
     "name": "stdout",
     "output_type": "stream",
     "text": [
      "21\n",
      "27\n"
     ]
    }
   ],
   "source": [
    "# Toss wins = match wins?\n",
    "count=0\n",
    "for i,y in zip(WC_hist[WC_hist['Year']==2015]['Tean_won'],WC_hist[WC_hist['Year']==2015]['Toss_won']):\n",
    "    \n",
    "      \n",
    "    if  i.strip() == y.strip():\n",
    "        WC_hist.loc[WC_hist.index==count,'TW']= True\n",
    "        \n",
    "        \n",
    "    else:\n",
    "        WC_hist.loc[WC_hist.index==count,'TW']= False\n",
    "        \n",
    "    \n",
    "    count=count+1\n",
    "\n",
    "\n",
    "a=WC_hist[WC_hist['Year']==2015].shape[0]\n",
    "\n",
    "b=WC_hist[WC_hist['Year']==2015]['TW'].sum()\n",
    "\n",
    "TW= b\n",
    "\n",
    "TL=a-b\n",
    "print(TW)\n",
    "print(TL)"
   ]
  },
  {
   "cell_type": "code",
   "execution_count": 690,
   "metadata": {},
   "outputs": [
    {
     "name": "stdout",
     "output_type": "stream",
     "text": [
      "19.0 29.0\n"
     ]
    }
   ],
   "source": [
    "#Target or chase\n",
    "\n",
    "count=0\n",
    "for i,y in zip(WC_hist[WC_hist['Year']==2015]['Tean_won'],WC_hist[WC_hist['Year']==2015]['Toss_won']):\n",
    "    \n",
    "      \n",
    "    if  i.strip() == y.strip():\n",
    "        if WC_hist['Toss_Decesion'].iloc[count]=='bat' :\n",
    "            \n",
    "            \n",
    "            WC_hist.loc[WC_hist.index==count,'Target/Chase']= 1\n",
    "        \n",
    "        else:\n",
    "            WC_hist.loc[WC_hist.index==count,'Target/Chase']= 0\n",
    "        \n",
    "        \n",
    "        \n",
    "    else:\n",
    "        if WC_hist['Toss_Decesion'].iloc[count]=='bat':\n",
    "            \n",
    "            \n",
    "            WC_hist.loc[WC_hist.index==count,'Target/Chase']= 0\n",
    "        \n",
    "        else:\n",
    "            WC_hist.loc[WC_hist.index==count,'Target/Chase']= 1\n",
    "        \n",
    "        \n",
    "    \n",
    "    count=count+1\n",
    "\n",
    "\n",
    "TC=WC_hist[WC_hist['Year']==2015]['Target/Chase'].sum()\n",
    "\n",
    "Total = WC_hist[WC_hist['Year']==2015].shape[0]\n",
    "\n",
    "print(TC, Total-TC)"
   ]
  },
  {
   "cell_type": "code",
   "execution_count": 696,
   "metadata": {},
   "outputs": [
    {
     "data": {
      "text/plain": [
       "Batsman        167\n",
       "Bowler          75\n",
       "All-rounder     68\n",
       "Name: role, dtype: int64"
      ]
     },
     "execution_count": 696,
     "metadata": {},
     "output_type": "execute_result"
    }
   ],
   "source": [
    "# Bat vs Bowl vs All\n",
    "\n",
    "WC_hist.loc[WC_hist['role'].str.contains('All rounder'),'role']='All-rounder'\n",
    "\n",
    "\n",
    "\n",
    "WC_hist['role'].value_counts()\n",
    "\n"
   ]
  },
  {
   "cell_type": "code",
   "execution_count": 656,
   "metadata": {},
   "outputs": [
    {
     "data": {
      "text/html": [
       "<div>\n",
       "<style scoped>\n",
       "    .dataframe tbody tr th:only-of-type {\n",
       "        vertical-align: middle;\n",
       "    }\n",
       "\n",
       "    .dataframe tbody tr th {\n",
       "        vertical-align: top;\n",
       "    }\n",
       "\n",
       "    .dataframe thead th {\n",
       "        text-align: right;\n",
       "    }\n",
       "</style>\n",
       "<table border=\"1\" class=\"dataframe\">\n",
       "  <thead>\n",
       "    <tr style=\"text-align: right;\">\n",
       "      <th></th>\n",
       "      <th>Team</th>\n",
       "      <th>Mat</th>\n",
       "      <th>Won</th>\n",
       "      <th>Lost</th>\n",
       "      <th>Tied</th>\n",
       "      <th>%</th>\n",
       "    </tr>\n",
       "  </thead>\n",
       "  <tbody>\n",
       "    <tr>\n",
       "      <th>0</th>\n",
       "      <td>Afghanistan</td>\n",
       "      <td>6</td>\n",
       "      <td>1</td>\n",
       "      <td>5</td>\n",
       "      <td>0</td>\n",
       "      <td>16.66</td>\n",
       "    </tr>\n",
       "    <tr>\n",
       "      <th>1</th>\n",
       "      <td>Australia</td>\n",
       "      <td>84</td>\n",
       "      <td>62</td>\n",
       "      <td>20</td>\n",
       "      <td>1</td>\n",
       "      <td>75.30</td>\n",
       "    </tr>\n",
       "    <tr>\n",
       "      <th>2</th>\n",
       "      <td>Bangladesh</td>\n",
       "      <td>32</td>\n",
       "      <td>11</td>\n",
       "      <td>20</td>\n",
       "      <td>0</td>\n",
       "      <td>35.48</td>\n",
       "    </tr>\n",
       "    <tr>\n",
       "      <th>3</th>\n",
       "      <td>Bermuda</td>\n",
       "      <td>3</td>\n",
       "      <td>0</td>\n",
       "      <td>3</td>\n",
       "      <td>0</td>\n",
       "      <td>0.00</td>\n",
       "    </tr>\n",
       "    <tr>\n",
       "      <th>4</th>\n",
       "      <td>Canada</td>\n",
       "      <td>18</td>\n",
       "      <td>2</td>\n",
       "      <td>16</td>\n",
       "      <td>0</td>\n",
       "      <td>11.11</td>\n",
       "    </tr>\n",
       "  </tbody>\n",
       "</table>\n",
       "</div>"
      ],
      "text/plain": [
       "          Team  Mat  Won  Lost  Tied      %\n",
       "0  Afghanistan    6    1     5     0  16.66\n",
       "1    Australia   84   62    20     1  75.30\n",
       "2   Bangladesh   32   11    20     0  35.48\n",
       "3      Bermuda    3    0     3     0   0.00\n",
       "4       Canada   18    2    16     0  11.11"
      ]
     },
     "execution_count": 656,
     "metadata": {},
     "output_type": "execute_result"
    }
   ],
   "source": [
    "#win % by teams\n",
    "\n",
    "win=pd.read_csv('Win%.csv')\n"
   ]
  },
  {
   "cell_type": "code",
   "execution_count": 661,
   "metadata": {},
   "outputs": [
    {
     "data": {
      "image/png": "[encoded data removed]",
      "text/plain": [
       "<Figure size 1440x720 with 1 Axes>"
      ]
     },
     "metadata": {
      "needs_background": "light"
     },
     "output_type": "display_data"
    }
   ],
   "source": [
    "import matplotlib.pyplot as plt\n",
    "%matplotlib inline\n",
    "import numpy as np\n",
    "\n",
    "indices = range(7)\n",
    "\n",
    "width = np.min(np.diff(indices))/3.\n",
    "\n",
    "\n",
    "\n",
    "names=['Pakistan','Sri Lanka','Australia','Australia','Australia','India','Australia']\n",
    "\n",
    "win=[6,6,7,11,11,7,7]\n",
    "Loss=[3,2,3,0,0,2,1]\n",
    "\n",
    "fig = plt.figure(figsize=(20,10))\n",
    "ax = fig.add_subplot(111)\n",
    "a= ax.bar(indices-width/2.,win,width,color='b',)\n",
    "b= ax.bar(indices+width/2.,Loss,width,color='r')\n",
    "#tiks = ax.get_xticks().tolist()\n",
    "\n",
    "def autolabel(rects):\n",
    "    # Get y-axis height to calculate label position from.\n",
    "    (y_bottom, y_top) = ax.get_ylim()\n",
    "    y_height = y_top - y_bottom\n",
    "\n",
    "    for rect in rects:\n",
    "        height = rect.get_height()\n",
    "\n",
    "        # Fraction of axis height taken up by this rectangle\n",
    "        p_height = (height / y_height)\n",
    "\n",
    "        # If we can fit the label above the column, do that;\n",
    "        # otherwise, put it inside the column.\n",
    "        if p_height > 0.95: # arbitrary; 95% looked good to me.\n",
    "            label_position = height - (y_height * 0.001)\n",
    "        else:\n",
    "            label_position = height + (y_height * 0.01)\n",
    "\n",
    "        ax.text(rect.get_x() + rect.get_width()/2., label_position,\n",
    "                '%d' % int(height),\n",
    "                ha='center', va='bottom')\n",
    "        \n",
    "\n",
    "autolabel(a)\n",
    "\n",
    "autolabel(b)\n",
    "        \n",
    "ax.axes.set_xticks(np.arange(7))\n",
    "ax.axes.set_xticklabels(names)\n",
    "ax.set_xlabel('Winning team performance')\n",
    "ax.legend(('Win','Loss'))\n",
    "plt.show()\n"
   ]
  },
  {
   "cell_type": "code",
   "execution_count": 681,
   "metadata": {},
   "outputs": [
    {
     "data": {
      "image/png": "[encoded data removed]",
      "text/plain": [
       "<Figure size 1440x720 with 1 Axes>"
      ]
     },
     "metadata": {
      "needs_background": "light"
     },
     "output_type": "display_data"
    }
   ],
   "source": [
    "indices = range(7)\n",
    "\n",
    "width = np.min(np.diff(indices))/3.\n",
    "\n",
    "\n",
    "\n",
    "names=['1991','1995','1999','2003','2007','2011','2015']\n",
    "\n",
    "win=[23,14,15,24,24,23,21]\n",
    "Loss=[14,21,26,26,27,25,27]\n",
    "\n",
    "fig = plt.figure(figsize=(20,10))\n",
    "ax = fig.add_subplot(111)\n",
    "a= ax.bar(indices-width/2.,win,width,color='c',)\n",
    "b= ax.bar(indices+width/2.,Loss,width,color='m')\n",
    "#tiks = ax.get_xticks().tolist()\n",
    "\n",
    "def autolabel(rects):\n",
    "    # Get y-axis height to calculate label position from.\n",
    "    (y_bottom, y_top) = ax.get_ylim()\n",
    "    y_height = y_top - y_bottom\n",
    "\n",
    "    for rect in rects:\n",
    "        height = rect.get_height()\n",
    "\n",
    "        # Fraction of axis height taken up by this rectangle\n",
    "        p_height = (height / y_height)\n",
    "\n",
    "        # If we can fit the label above the column, do that;\n",
    "        # otherwise, put it inside the column.\n",
    "        if p_height > 0.95: # arbitrary; 95% looked good to me.\n",
    "            label_position = height - (y_height * 0.001)\n",
    "        else:\n",
    "            label_position = height + (y_height * 0.01)\n",
    "\n",
    "        ax.text(rect.get_x() + rect.get_width()/2., label_position,\n",
    "                '%d' % int(height),\n",
    "                ha='center', va='bottom')\n",
    "        \n",
    "\n",
    "autolabel(a)\n",
    "\n",
    "autolabel(b)\n",
    "        \n",
    "ax.axes.set_xticks(np.arange(7))\n",
    "ax.axes.set_xticklabels(names)\n",
    "ax.set_xlabel('Toss Won or Loss in each worldcup')\n",
    "ax.legend(('Won','Loss'))\n",
    "plt.show()"
   ]
  },
  {
   "cell_type": "code",
   "execution_count": 695,
   "metadata": {},
   "outputs": [
    {
     "data": {
      "image/png": "[encoded data removed]",
      "text/plain": [
       "<Figure size 1440x720 with 1 Axes>"
      ]
     },
     "metadata": {
      "needs_background": "light"
     },
     "output_type": "display_data"
    }
   ],
   "source": [
    "indices = range(7)\n",
    "\n",
    "width = np.min(np.diff(indices))/3.\n",
    "\n",
    "\n",
    "\n",
    "names=['1991','1995','1999','2003','2007','2011','2015']\n",
    "\n",
    "target=[17,18,23,29,26,24,19]\n",
    "chase=[20,17,18,21,25,24,29]\n",
    "\n",
    "fig = plt.figure(figsize=(20,10))\n",
    "ax = fig.add_subplot(111)\n",
    "a= ax.bar(indices-width/2.,target,width,color='m',)\n",
    "b= ax.bar(indices+width/2.,chase,width,color='k')\n",
    "#tiks = ax.get_xticks().tolist()\n",
    "\n",
    "def autolabel(rects):\n",
    "    # Get y-axis height to calculate label position from.\n",
    "    (y_bottom, y_top) = ax.get_ylim()\n",
    "    y_height = y_top - y_bottom\n",
    "\n",
    "    for rect in rects:\n",
    "        height = rect.get_height()\n",
    "\n",
    "        # Fraction of axis height taken up by this rectangle\n",
    "        p_height = (height / y_height)\n",
    "\n",
    "        # If we can fit the label above the column, do that;\n",
    "        # otherwise, put it inside the column.\n",
    "        if p_height > 0.95: # arbitrary; 95% looked good to me.\n",
    "            label_position = height - (y_height * 0.001)\n",
    "        else:\n",
    "            label_position = height + (y_height * 0.01)\n",
    "\n",
    "        ax.text(rect.get_x() + rect.get_width()/2., label_position,\n",
    "                '%d' % int(height),\n",
    "                ha='center', va='bottom')\n",
    "        \n",
    "\n",
    "autolabel(a)\n",
    "\n",
    "autolabel(b)\n",
    "        \n",
    "ax.axes.set_xticks(np.arange(7))\n",
    "ax.axes.set_xticklabels(names)\n",
    "ax.set_xlabel('Team winning by setting Targets vs winning by chasing')\n",
    "ax.legend(('Target','Chase'))\n",
    "plt.show()"
   ]
  },
  {
   "cell_type": "code",
   "execution_count": 702,
   "metadata": {
    "scrolled": true
   },
   "outputs": [
    {
     "data": {
      "image/png": "[encoded data removed]",
      "text/plain": [
       "<Figure size 1440x720 with 1 Axes>"
      ]
     },
     "metadata": {
      "needs_background": "light"
     },
     "output_type": "display_data"
    }
   ],
   "source": [
    "indices = range(3)\n",
    "\n",
    "width = np.min(np.diff(indices))/3.\n",
    "\n",
    "\n",
    "\n",
    "names=['Batsman','Bowler','All Rounder']\n",
    "\n",
    "val=[167,75,68]\n",
    "\n",
    "\n",
    "fig = plt.figure(figsize=(20,10))\n",
    "ax = fig.add_subplot(111)\n",
    "a= ax.bar(indices-width/8,val,width,color='c',)\n",
    "\n",
    "#tiks = ax.get_xticks().tolist()\n",
    "\n",
    "def autolabel(rects):\n",
    "    # Get y-axis height to calculate label position from.\n",
    "    (y_bottom, y_top) = ax.get_ylim()\n",
    "    y_height = y_top - y_bottom\n",
    "\n",
    "    for rect in rects:\n",
    "        height = rect.get_height()\n",
    "\n",
    "        # Fraction of axis height taken up by this rectangle\n",
    "        p_height = (height / y_height)\n",
    "\n",
    "        # If we can fit the label above the column, do that;\n",
    "        # otherwise, put it inside the column.\n",
    "        if p_height > 0.95: # arbitrary; 95% looked good to me.\n",
    "            label_position = height - (y_height * 0.001)\n",
    "        else:\n",
    "            label_position = height + (y_height * 0.01)\n",
    "\n",
    "        ax.text(rect.get_x() + rect.get_width()/2., label_position,\n",
    "                '%d' % int(height),\n",
    "                ha='center', va='bottom')\n",
    "        \n",
    "\n",
    "autolabel(a)\n",
    "\n",
    "\n",
    "        \n",
    "ax.axes.set_xticks(np.arange(7))\n",
    "ax.axes.set_xticklabels(names)\n",
    "plt.show()"
   ]
  },
  {
   "cell_type": "code",
   "execution_count": 704,
   "metadata": {},
   "outputs": [
    {
     "data": {
      "image/png": "[encoded data removed]",
      "text/plain": [
       "<Figure size 1440x720 with 1 Axes>"
      ]
     },
     "metadata": {
      "needs_background": "light"
     },
     "output_type": "display_data"
    }
   ],
   "source": [
    "indices = range(6)\n",
    "\n",
    "width = np.min(np.diff(indices))/3.\n",
    "\n",
    "\n",
    "\n",
    "names=['Australia','Pakistan','India','South Africa','Sri Lanka','New Zeland']\n",
    "\n",
    "semi=[5,3,4,4,4,4]\n",
    "final=[5,2,2,0,3,1]\n",
    "\n",
    "fig = plt.figure(figsize=(20,10))\n",
    "ax = fig.add_subplot(111)\n",
    "a= ax.bar(indices-width/2.,semi,width,color='r',)\n",
    "b= ax.bar(indices+width/2.,final,width,color='b')\n",
    "#tiks = ax.get_xticks().tolist()\n",
    "\n",
    "def autolabel(rects):\n",
    "    # Get y-axis height to calculate label position from.\n",
    "    (y_bottom, y_top) = ax.get_ylim()\n",
    "    y_height = y_top - y_bottom\n",
    "\n",
    "    for rect in rects:\n",
    "        height = rect.get_height()\n",
    "\n",
    "        # Fraction of axis height taken up by this rectangle\n",
    "        p_height = (height / y_height)\n",
    "\n",
    "        # If we can fit the label above the column, do that;\n",
    "        # otherwise, put it inside the column.\n",
    "        if p_height > 0.95: # arbitrary; 95% looked good to me.\n",
    "            label_position = height - (y_height * 0.001)\n",
    "        else:\n",
    "            label_position = height + (y_height * 0.01)\n",
    "\n",
    "        ax.text(rect.get_x() + rect.get_width()/2., label_position,\n",
    "                '%d' % int(height),\n",
    "                ha='center', va='bottom')\n",
    "        \n",
    "\n",
    "autolabel(a)\n",
    "\n",
    "autolabel(b)\n",
    "        \n",
    "ax.axes.set_xticks(np.arange(7))\n",
    "ax.axes.set_xticklabels(names)\n",
    "ax.set_xlabel('No of semi final and finals played by the above teams')\n",
    "ax.legend(('Semi-Final','Final'))\n",
    "plt.show()"
   ]
  },
  {
   "cell_type": "code",
   "execution_count": null,
   "metadata": {},
   "outputs": [],
   "source": []
  },
  {
   "cell_type": "code",
   "execution_count": null,
   "metadata": {},
   "outputs": [],
   "source": []
  }
 ],
 "metadata": {
  "kernelspec": {
   "display_name": "Python 3",
   "language": "python",
   "name": "python3"
  },
  "language_info": {
   "codemirror_mode": {
    "name": "ipython",
    "version": 3
   },
   "file_extension": ".py",
   "mimetype": "text/x-python",
   "name": "python",
   "nbconvert_exporter": "python",
   "pygments_lexer": "ipython3",
   "version": "3.7.1"
  }
 },
 "nbformat": 4,
 "nbformat_minor": 2
}
