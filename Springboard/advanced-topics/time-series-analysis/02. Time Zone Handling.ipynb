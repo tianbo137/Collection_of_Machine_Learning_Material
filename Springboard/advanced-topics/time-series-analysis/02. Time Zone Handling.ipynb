{
 "cells": [
  {
   "cell_type": "code",
   "execution_count": 1,
   "metadata": {
    "collapsed": true
   },
   "outputs": [],
   "source": [
    "import numpy as np\n",
    "import pandas as pd"
   ]
  },
  {
   "cell_type": "code",
   "execution_count": 2,
   "metadata": {
    "collapsed": true
   },
   "outputs": [],
   "source": [
    "rng = pd.date_range('3/6/2012 00:00', periods = 15, freq = 'D')\n",
    "rng.tz"
   ]
  },
  {
   "cell_type": "code",
   "execution_count": 3,
   "metadata": {},
   "outputs": [
    {
     "data": {
      "text/plain": [
       "<DstTzInfo 'Europe/London' LMT-1 day, 23:59:00 STD>"
      ]
     },
     "execution_count": 3,
     "metadata": {},
     "output_type": "execute_result"
    }
   ],
   "source": [
    "rng_tz = pd.date_range('3/6/2012 00:00', periods = 15, freq = 'D', tz = 'Europe/London')\n",
    "rng_tz.tz"
   ]
  },
  {
   "cell_type": "code",
   "execution_count": 4,
   "metadata": {},
   "outputs": [
    {
     "name": "stdout",
     "output_type": "stream",
     "text": [
      "439\n",
      "593\n",
      "{'Etc/UCT', 'Eire', 'Pacific/Truk', 'Etc/GMT+6', 'Poland', 'GB-Eire', 'Etc/GMT-7', 'Egypt', 'CST6CDT', 'Asia/Saigon', 'Japan', 'CET', 'Etc/GMT0', 'UCT', 'Jamaica', 'Etc/GMT-12', 'Europe/Belfast', 'America/Argentina/ComodRivadavia', 'Etc/GMT+12', 'Asia/Thimbu', 'US/Pacific-New', 'Portugal', 'WET', 'Universal', 'EET', 'Asia/Chungking', 'PRC', 'Brazil/East', 'Pacific/Johnston', 'Etc/GMT-9', 'Etc/GMT-4', 'America/Indianapolis', 'Africa/Timbuktu', 'Australia/Queensland', 'Etc/Greenwich', 'NZ-CHAT', 'America/Cordoba', 'Australia/NSW', 'America/Buenos_Aires', 'Asia/Harbin', 'America/Ensenada', 'America/Atka', 'Turkey', 'Europe/Nicosia', 'MST7MDT', 'Etc/GMT+1', 'Asia/Dacca', 'Brazil/West', 'GMT-0', 'Etc/UTC', 'Asia/Istanbul', 'US/Michigan', 'America/Virgin', 'America/Jujuy', 'Singapore', 'Asia/Macao', 'Australia/Yancowinna', 'Etc/GMT+8', 'America/Rosario', 'GMT0', 'US/East-Indiana', 'PST8PDT', 'Etc/GMT+2', 'Antarctica/South_Pole', 'Chile/EasterIsland', 'Etc/GMT', 'Pacific/Ponape', 'America/Coral_Harbour', 'Asia/Chongqing', 'America/Fort_Wayne', 'Canada/Yukon', 'Etc/GMT-6', 'Etc/GMT+10', 'Etc/GMT+11', 'EST', 'Cuba', 'Etc/GMT+4', 'Etc/GMT+9', 'Australia/LHI', 'Mexico/BajaSur', 'Etc/GMT-2', 'Asia/Ulan_Bator', 'America/Montreal', 'Asia/Ujung_Pandang', 'Asia/Katmandu', 'America/Shiprock', 'NZ', 'Etc/Zulu', 'Chile/Continental', 'Etc/GMT+5', 'US/Indiana-Starke', 'Asia/Calcutta', 'America/Porto_Acre', 'W-SU', 'America/Mendoza', 'Asia/Kashgar', 'MET', 'Mexico/BajaNorte', 'America/Catamarca', 'America/Louisville', 'Israel', 'America/Knox_IN', 'Australia/Canberra', 'Australia/Tasmania', 'Zulu', 'HST', 'Iran', 'Australia/West', 'ROK', 'Greenwich', 'America/Santa_Isabel', 'Asia/Rangoon', 'Canada/East-Saskatchewan', 'Iceland', 'Africa/Asmera', 'Brazil/Acre', 'Etc/GMT-8', 'Etc/GMT-1', 'Etc/GMT+7', 'Hongkong', 'Kwajalein', 'GB', 'Pacific/Yap', 'US/Samoa', 'Etc/GMT+0', 'US/Aleutian', 'Asia/Tel_Aviv', 'GMT+0', 'MST', 'Etc/GMT-11', 'Etc/Universal', 'Etc/GMT+3', 'Australia/South', 'Atlantic/Faeroe', 'Australia/Victoria', 'Mexico/General', 'Navajo', 'ROC', 'Atlantic/Jan_Mayen', 'Australia/ACT', 'Etc/GMT-14', 'Canada/Saskatchewan', 'Asia/Ashkhabad', 'Etc/GMT-5', 'Europe/Tiraspol', 'EST5EDT', 'Brazil/DeNoronha', 'Etc/GMT-3', 'Etc/GMT-10', 'Australia/North', 'Pacific/Samoa', 'Libya', 'Etc/GMT-13', 'Etc/GMT-0'}\n"
     ]
    }
   ],
   "source": [
    "from pytz import common_timezones, all_timezones\n",
    "print(len(common_timezones))\n",
    "print(len(all_timezones))\n",
    "print(set(all_timezones) - set(common_timezones))"
   ]
  },
  {
   "cell_type": "code",
   "execution_count": 5,
   "metadata": {},
   "outputs": [
    {
     "data": {
      "text/plain": [
       "Timestamp('2016-07-10 08:50:00')"
      ]
     },
     "execution_count": 5,
     "metadata": {},
     "output_type": "execute_result"
    }
   ],
   "source": [
    "# You can also localize a naive timestamp\n",
    "t_naive = pd.Timestamp('2016-07-10 08:50')\n",
    "t_naive"
   ]
  },
  {
   "cell_type": "code",
   "execution_count": 6,
   "metadata": {},
   "outputs": [
    {
     "data": {
      "text/plain": [
       "Timestamp('2016-07-10 08:50:00-0500', tz='US/Central')"
      ]
     },
     "execution_count": 6,
     "metadata": {},
     "output_type": "execute_result"
    }
   ],
   "source": [
    "t = t_naive.tz_localize(tz = 'US/Central')\n",
    "t"
   ]
  },
  {
   "cell_type": "code",
   "execution_count": 7,
   "metadata": {},
   "outputs": [
    {
     "data": {
      "text/plain": [
       "Timestamp('2016-07-10 22:50:00+0900', tz='Asia/Tokyo')"
      ]
     },
     "execution_count": 7,
     "metadata": {},
     "output_type": "execute_result"
    }
   ],
   "source": [
    "t.tz_convert('Asia/Tokyo')"
   ]
  },
  {
   "cell_type": "code",
   "execution_count": 8,
   "metadata": {},
   "outputs": [
    {
     "data": {
      "text/plain": [
       "2016-03-10 00:00:00-06:00    0\n",
       "2016-03-11 00:00:00-06:00    1\n",
       "2016-03-12 00:00:00-06:00    2\n",
       "2016-03-13 00:00:00-06:00    3\n",
       "2016-03-14 00:00:00-05:00    4\n",
       "2016-03-15 00:00:00-05:00    5\n",
       "2016-03-16 00:00:00-05:00    6\n",
       "2016-03-17 00:00:00-05:00    7\n",
       "2016-03-18 00:00:00-05:00    8\n",
       "2016-03-19 00:00:00-05:00    9\n",
       "Freq: D, dtype: int64"
      ]
     },
     "execution_count": 8,
     "metadata": {},
     "output_type": "execute_result"
    }
   ],
   "source": [
    "# how to handle daylight savings?\n",
    "rng = pd.date_range('2016-03-10', periods=10, tz='US/Central')\n",
    "ts = pd.Series(range(10), index=rng)\n",
    "ts"
   ]
  },
  {
   "cell_type": "code",
   "execution_count": 9,
   "metadata": {},
   "outputs": [
    {
     "data": {
      "text/plain": [
       "2016-03-10 00:00:00+00:00    0\n",
       "2016-03-11 00:00:00+00:00    1\n",
       "2016-03-12 00:00:00+00:00    2\n",
       "2016-03-13 00:00:00+00:00    3\n",
       "2016-03-14 00:00:00+00:00    4\n",
       "2016-03-15 00:00:00+00:00    5\n",
       "2016-03-16 00:00:00+00:00    6\n",
       "2016-03-17 00:00:00+00:00    7\n",
       "2016-03-18 00:00:00+00:00    8\n",
       "2016-03-19 00:00:00+00:00    9\n",
       "Freq: D, dtype: int64"
      ]
     },
     "execution_count": 9,
     "metadata": {},
     "output_type": "execute_result"
    }
   ],
   "source": [
    "rng = pd.date_range('2016-03-10', periods=10, tz='utc')\n",
    "ts = pd.Series(range(10), index=rng)\n",
    "ts"
   ]
  },
  {
   "cell_type": "code",
   "execution_count": 10,
   "metadata": {},
   "outputs": [
    {
     "data": {
      "text/plain": [
       "2016-03-09 18:00:00-06:00    0\n",
       "2016-03-10 18:00:00-06:00    1\n",
       "2016-03-11 18:00:00-06:00    2\n",
       "2016-03-12 18:00:00-06:00    3\n",
       "2016-03-13 19:00:00-05:00    4\n",
       "2016-03-14 19:00:00-05:00    5\n",
       "2016-03-15 19:00:00-05:00    6\n",
       "2016-03-16 19:00:00-05:00    7\n",
       "2016-03-17 19:00:00-05:00    8\n",
       "2016-03-18 19:00:00-05:00    9\n",
       "Freq: D, dtype: int64"
      ]
     },
     "execution_count": 10,
     "metadata": {},
     "output_type": "execute_result"
    }
   ],
   "source": [
    "ts.tz_convert('US/Central')"
   ]
  },
  {
   "cell_type": "code",
   "execution_count": 11,
   "metadata": {},
   "outputs": [
    {
     "data": {
      "text/plain": [
       "DatetimeIndex(['2016-03-12 22:00:00-05:00', '2016-03-12 23:00:00-05:00',\n",
       "               '2016-03-13 00:00:00-05:00', '2016-03-13 01:00:00-05:00',\n",
       "               '2016-03-13 03:00:00-04:00', '2016-03-13 04:00:00-04:00',\n",
       "               '2016-03-13 05:00:00-04:00', '2016-03-13 06:00:00-04:00',\n",
       "               '2016-03-13 07:00:00-04:00', '2016-03-13 08:00:00-04:00',\n",
       "               '2016-03-13 09:00:00-04:00', '2016-03-13 10:00:00-04:00'],\n",
       "              dtype='datetime64[ns, US/Eastern]', freq='H')"
      ]
     },
     "execution_count": 11,
     "metadata": {},
     "output_type": "execute_result"
    }
   ],
   "source": [
    "pd.date_range('03-12-2016 22:00', periods = 12, freq = 'H', tz = 'US/Eastern')"
   ]
  },
  {
   "cell_type": "code",
   "execution_count": 12,
   "metadata": {},
   "outputs": [
    {
     "data": {
      "text/plain": [
       "DatetimeIndex(['2016-11-05 22:00:00-04:00', '2016-11-05 23:00:00-04:00',\n",
       "               '2016-11-06 00:00:00-04:00', '2016-11-06 01:00:00-04:00',\n",
       "               '2016-11-06 01:00:00-05:00', '2016-11-06 02:00:00-05:00',\n",
       "               '2016-11-06 03:00:00-05:00', '2016-11-06 04:00:00-05:00'],\n",
       "              dtype='datetime64[ns, US/Eastern]', freq=None)"
      ]
     },
     "execution_count": 12,
     "metadata": {},
     "output_type": "execute_result"
    }
   ],
   "source": [
    "# May autocorrect an error rather than giving you a non-existent time error\n",
    "# t = pd.Timestamp('2016-03-13 02:00')\n",
    "t = pd.DatetimeIndex(['11-05-2016 22:00', '11-05-2016 23:00', '11-06-2016 00:00', '11-06-2016 01:00',\n",
    "                      '11-06-2016 01:00', '11-06-2016 02:00', '11-06-2016 03:00', '11-06-2016 04:00'])\n",
    "t = t.tz_localize('US/Eastern', ambiguous='infer')\n",
    "t"
   ]
  },
  {
   "cell_type": "code",
   "execution_count": 13,
   "metadata": {},
   "outputs": [
    {
     "data": {
      "text/plain": [
       "DatetimeIndex(['2016-11-06 02:00:00+00:00', '2016-11-06 03:00:00+00:00',\n",
       "               '2016-11-06 04:00:00+00:00', '2016-11-06 05:00:00+00:00',\n",
       "               '2016-11-06 06:00:00+00:00', '2016-11-06 07:00:00+00:00',\n",
       "               '2016-11-06 08:00:00+00:00', '2016-11-06 09:00:00+00:00'],\n",
       "              dtype='datetime64[ns, UTC]', freq=None)"
      ]
     },
     "execution_count": 13,
     "metadata": {},
     "output_type": "execute_result"
    }
   ],
   "source": [
    "t.tz_convert('utc')"
   ]
  }
 ],
 "metadata": {
  "kernelspec": {
   "display_name": "Python 3",
   "language": "python",
   "name": "python3"
  },
  "language_info": {
   "codemirror_mode": {
    "name": "ipython",
    "version": 3
   },
   "file_extension": ".py",
   "mimetype": "text/x-python",
   "name": "python",
   "nbconvert_exporter": "python",
   "pygments_lexer": "ipython3",
   "version": "3.6.2"
  },
  "widgets": {
   "state": {},
   "version": "1.1.1"
  }
 },
 "nbformat": 4,
 "nbformat_minor": 1
}
