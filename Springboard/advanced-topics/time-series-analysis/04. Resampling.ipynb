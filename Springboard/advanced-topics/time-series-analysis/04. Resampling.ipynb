{
 "cells": [
  {
   "cell_type": "code",
   "execution_count": 1,
   "metadata": {
    "collapsed": true
   },
   "outputs": [],
   "source": [
    "import pandas as pd\n",
    "import numpy as np"
   ]
  },
  {
   "cell_type": "code",
   "execution_count": 2,
   "metadata": {},
   "outputs": [
    {
     "data": {
      "text/plain": [
       "2011-01-01 00:00:00    0\n",
       "2011-01-01 01:00:00    1\n",
       "2011-01-01 02:00:00    2\n",
       "2011-01-01 03:00:00    3\n",
       "2011-01-01 04:00:00    4\n",
       "Freq: H, dtype: int64"
      ]
     },
     "execution_count": 2,
     "metadata": {},
     "output_type": "execute_result"
    }
   ],
   "source": [
    "rng = pd.date_range('1/1/2011', periods=72, freq='H')\n",
    "ts = pd.Series(range(len(rng)), index=rng)\n",
    "ts.head()"
   ]
  },
  {
   "cell_type": "code",
   "execution_count": 3,
   "metadata": {},
   "outputs": [
    {
     "data": {
      "text/plain": [
       "2011-01-01 00:00:00    0\n",
       "2011-01-01 00:45:00    0\n",
       "2011-01-01 01:30:00    1\n",
       "2011-01-01 02:15:00    2\n",
       "2011-01-01 03:00:00    3\n",
       "Freq: 45T, dtype: int64"
      ]
     },
     "execution_count": 3,
     "metadata": {},
     "output_type": "execute_result"
    }
   ],
   "source": [
    "converted = ts.asfreq('45Min', method='ffill')\n",
    "converted.head()"
   ]
  },
  {
   "cell_type": "code",
   "execution_count": 4,
   "metadata": {},
   "outputs": [
    {
     "name": "stdout",
     "output_type": "stream",
     "text": [
      "(72,)\n",
      "(95,)\n"
     ]
    }
   ],
   "source": [
    "# Does asfreq change the # of rows?\n",
    "print(ts.shape)\n",
    "print(converted.shape)"
   ]
  },
  {
   "cell_type": "code",
   "execution_count": 5,
   "metadata": {},
   "outputs": [
    {
     "data": {
      "text/plain": [
       "2011-01-01 00:00:00    0\n",
       "2011-01-01 00:45:00    0\n",
       "2011-01-01 01:30:00    1\n",
       "2011-01-01 02:15:00    2\n",
       "2011-01-01 03:00:00    3\n",
       "Freq: 45T, dtype: int64"
      ]
     },
     "execution_count": 5,
     "metadata": {},
     "output_type": "execute_result"
    }
   ],
   "source": [
    "# What do the different methods do?\n",
    "# method : {‘backfill’, ‘bfill’, ‘pad’, ‘ffill’, None}\n",
    "# 'pad' is the same as 'ffill'\n",
    "converted = ts.asfreq('45Min', method='pad')\n",
    "converted.head()"
   ]
  },
  {
   "cell_type": "code",
   "execution_count": 6,
   "metadata": {},
   "outputs": [
    {
     "data": {
      "text/plain": [
       "2011-01-01 00:00:00    0\n",
       "2011-01-01 00:45:00    1\n",
       "2011-01-01 01:30:00    2\n",
       "2011-01-01 02:15:00    3\n",
       "2011-01-01 03:00:00    3\n",
       "Freq: 45T, dtype: int64"
      ]
     },
     "execution_count": 6,
     "metadata": {},
     "output_type": "execute_result"
    }
   ],
   "source": [
    "# 'backfill' is the same as 'bfill'\n",
    "converted = ts.asfreq('45Min', method='bfill')\n",
    "converted.head()"
   ]
  },
  {
   "cell_type": "code",
   "execution_count": 7,
   "metadata": {},
   "outputs": [
    {
     "data": {
      "text/plain": [
       "2011-01-01 00:00:00    0.0\n",
       "2011-01-01 00:45:00    NaN\n",
       "2011-01-01 01:30:00    NaN\n",
       "2011-01-01 02:15:00    NaN\n",
       "2011-01-01 03:00:00    3.0\n",
       "Freq: 45T, dtype: float64"
      ]
     },
     "execution_count": 7,
     "metadata": {},
     "output_type": "execute_result"
    }
   ],
   "source": [
    "converted = ts.asfreq('45Min', method=None)\n",
    "converted.head()"
   ]
  },
  {
   "cell_type": "markdown",
   "metadata": {},
   "source": [
    "### Might any of these methods have pitfalls from a logical point of view?\n",
    "Backfill involves looking into the future when dealing with time series and can cause problems if being used to build predictive models. The None option returns NaN for every time stamp there is not already data for."
   ]
  },
  {
   "cell_type": "markdown",
   "metadata": {
    "collapsed": true
   },
   "source": [
    "### What's the difference between going to a higher frequency and a lower frequency?\n",
    "Going to a lower frequency is simply a matter of downselecting data when the new frequency is an integer multiple of the original frequency, such as going from hourly data to data every two hours. However, the dataset grows when moving to a higher frequency and one needs to try and infer what happens between data points."
   ]
  },
  {
   "cell_type": "code",
   "execution_count": 8,
   "metadata": {},
   "outputs": [
    {
     "data": {
      "text/plain": [
       "2011-01-01 00:00:00    0\n",
       "2011-01-01 02:00:00    2\n",
       "2011-01-01 04:00:00    4\n",
       "2011-01-01 06:00:00    6\n",
       "2011-01-01 08:00:00    8\n",
       "Freq: 2H, dtype: int64"
      ]
     },
     "execution_count": 8,
     "metadata": {},
     "output_type": "execute_result"
    }
   ],
   "source": [
    "converted = ts.asfreq('2H', method='ffill')\n",
    "converted.head()"
   ]
  },
  {
   "cell_type": "markdown",
   "metadata": {
    "collapsed": true
   },
   "source": [
    "### What's different logically about going to a higher frequency vs a lower frequency? \n",
    "Going to a lower frequency involves removing data, while going to a higher frequency involves adding data at times not yet sampled.\n",
    "\n",
    "### What do you want to do when switching to a lower freqeuncy that is not logical when switching to a higher frequency?\n",
    "Ideally when switching to a lower frequency data already exists at all the new time stamps and data only needs to be removed. It is impossible to already have all the desired times when switching to a higher frequency."
   ]
  },
  {
   "cell_type": "code",
   "execution_count": 9,
   "metadata": {},
   "outputs": [
    {
     "data": {
      "text/plain": [
       "2011-01-01 02:00:00     2.5\n",
       "2011-01-01 04:00:00     4.5\n",
       "2011-01-01 06:00:00     6.5\n",
       "2011-01-01 08:00:00     8.5\n",
       "2011-01-01 10:00:00    10.5\n",
       "2011-01-01 12:00:00    12.5\n",
       "2011-01-01 14:00:00    14.5\n",
       "2011-01-01 16:00:00    16.5\n",
       "2011-01-01 18:00:00    18.5\n",
       "Freq: 2H, dtype: float64"
      ]
     },
     "execution_count": 9,
     "metadata": {},
     "output_type": "execute_result"
    }
   ],
   "source": [
    "ts.resample('2H').mean()[1:10]"
   ]
  },
  {
   "cell_type": "code",
   "execution_count": 10,
   "metadata": {},
   "outputs": [
    {
     "data": {
      "text/plain": [
       "2011-01-01     276\n",
       "2011-01-02     852\n",
       "2011-01-03    1428\n",
       "Freq: D, dtype: int64"
      ]
     },
     "execution_count": 10,
     "metadata": {},
     "output_type": "execute_result"
    }
   ],
   "source": [
    "ts.resample('D').sum()"
   ]
  },
  {
   "cell_type": "code",
   "execution_count": 11,
   "metadata": {},
   "outputs": [
    {
     "data": {
      "text/plain": [
       "2011-01-01 00:00:00    0.0\n",
       "2011-01-01 01:30:00    NaN\n",
       "2011-01-01 03:00:00    3.0\n",
       "2011-01-01 04:30:00    NaN\n",
       "2011-01-01 06:00:00    6.0\n",
       "Freq: 90T, dtype: float64"
      ]
     },
     "execution_count": 11,
     "metadata": {},
     "output_type": "execute_result"
    }
   ],
   "source": [
    "# What if you want to downsample and you don't want to ffill or bfill?\n",
    "# There is the None option, but will return NaN for all time stamps we do not already have data for.\n",
    "converted = ts.asfreq('90Min', method=None)\n",
    "converted.head()"
   ]
  },
  {
   "cell_type": "markdown",
   "metadata": {
    "collapsed": true
   },
   "source": [
    "### What is the difference between .resample() and .asfreq()?\n",
    "The asfreq method is just for changing frequencies, but the resample method is much more flexible and allows aggregation operations."
   ]
  },
  {
   "cell_type": "markdown",
   "metadata": {
    "collapsed": true
   },
   "source": [
    "### What are some special things you can do with .resample() you can't do with .asfreq()?\n",
    "The resample method allows uers to group data at a specified frequency and apply functions to the grouped data."
   ]
  }
 ],
 "metadata": {
  "kernelspec": {
   "display_name": "Python 3",
   "language": "python",
   "name": "python3"
  },
  "language_info": {
   "codemirror_mode": {
    "name": "ipython",
    "version": 3
   },
   "file_extension": ".py",
   "mimetype": "text/x-python",
   "name": "python",
   "nbconvert_exporter": "python",
   "pygments_lexer": "ipython3",
   "version": "3.6.2"
  },
  "widgets": {
   "state": {},
   "version": "1.1.1"
  }
 },
 "nbformat": 4,
 "nbformat_minor": 1
}
