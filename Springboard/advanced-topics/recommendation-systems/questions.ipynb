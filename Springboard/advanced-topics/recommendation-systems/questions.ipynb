{
 "cells": [
  {
   "cell_type": "markdown",
   "metadata": {},
   "source": [
    "# Exercises for \"Hands-on with Pydata: How to Build a Minimal Recommendation Engine\""
   ]
  },
  {
   "cell_type": "markdown",
   "metadata": {},
   "source": [
    "# Systems check: imports and files"
   ]
  },
  {
   "cell_type": "code",
   "execution_count": 1,
   "metadata": {},
   "outputs": [],
   "source": [
    "import numpy as np\n",
    "import pandas as pd"
   ]
  },
  {
   "cell_type": "markdown",
   "metadata": {},
   "source": [
    "# Pandas questions: Series and DataFrames\n",
    "## 1. Adding a column in a DataFrame"
   ]
  },
  {
   "cell_type": "code",
   "execution_count": 2,
   "metadata": {},
   "outputs": [
    {
     "data": {
      "text/html": [
       "<div>\n",
       "<table border=\"1\" class=\"dataframe\">\n",
       "  <thead>\n",
       "    <tr style=\"text-align: right;\">\n",
       "      <th></th>\n",
       "      <th>col1</th>\n",
       "    </tr>\n",
       "  </thead>\n",
       "  <tbody>\n",
       "    <tr>\n",
       "      <th>0</th>\n",
       "      <td>1</td>\n",
       "    </tr>\n",
       "    <tr>\n",
       "      <th>1</th>\n",
       "      <td>2</td>\n",
       "    </tr>\n",
       "    <tr>\n",
       "      <th>2</th>\n",
       "      <td>3</td>\n",
       "    </tr>\n",
       "    <tr>\n",
       "      <th>3</th>\n",
       "      <td>4</td>\n",
       "    </tr>\n",
       "  </tbody>\n",
       "</table>\n",
       "</div>"
      ],
      "text/plain": [
       "   col1\n",
       "0     1\n",
       "1     2\n",
       "2     3\n",
       "3     4"
      ]
     },
     "execution_count": 2,
     "metadata": {},
     "output_type": "execute_result"
    }
   ],
   "source": [
    "# given the following DataFrame, add a new column to it\n",
    "df = pd.DataFrame({'col1': [1,2,3,4]})\n",
    "df"
   ]
  },
  {
   "cell_type": "code",
   "execution_count": 3,
   "metadata": {},
   "outputs": [
    {
     "data": {
      "text/html": [
       "<div>\n",
       "<table border=\"1\" class=\"dataframe\">\n",
       "  <thead>\n",
       "    <tr style=\"text-align: right;\">\n",
       "      <th></th>\n",
       "      <th>col1</th>\n",
       "      <th>col2</th>\n",
       "    </tr>\n",
       "  </thead>\n",
       "  <tbody>\n",
       "    <tr>\n",
       "      <th>0</th>\n",
       "      <td>1</td>\n",
       "      <td>2</td>\n",
       "    </tr>\n",
       "    <tr>\n",
       "      <th>1</th>\n",
       "      <td>2</td>\n",
       "      <td>4</td>\n",
       "    </tr>\n",
       "    <tr>\n",
       "      <th>2</th>\n",
       "      <td>3</td>\n",
       "      <td>6</td>\n",
       "    </tr>\n",
       "    <tr>\n",
       "      <th>3</th>\n",
       "      <td>4</td>\n",
       "      <td>8</td>\n",
       "    </tr>\n",
       "  </tbody>\n",
       "</table>\n",
       "</div>"
      ],
      "text/plain": [
       "   col1  col2\n",
       "0     1     2\n",
       "1     2     4\n",
       "2     3     6\n",
       "3     4     8"
      ]
     },
     "execution_count": 3,
     "metadata": {},
     "output_type": "execute_result"
    }
   ],
   "source": [
    "df['col2'] = [2,4,6,8]\n",
    "df"
   ]
  },
  {
   "cell_type": "markdown",
   "metadata": {},
   "source": [
    "## 2. Deleting a row in a DataFrame"
   ]
  },
  {
   "cell_type": "code",
   "execution_count": 4,
   "metadata": {},
   "outputs": [
    {
     "data": {
      "text/html": [
       "<div>\n",
       "<table border=\"1\" class=\"dataframe\">\n",
       "  <thead>\n",
       "    <tr style=\"text-align: right;\">\n",
       "      <th></th>\n",
       "      <th>col1</th>\n",
       "    </tr>\n",
       "  </thead>\n",
       "  <tbody>\n",
       "    <tr>\n",
       "      <th>a</th>\n",
       "      <td>1</td>\n",
       "    </tr>\n",
       "    <tr>\n",
       "      <th>b</th>\n",
       "      <td>2</td>\n",
       "    </tr>\n",
       "    <tr>\n",
       "      <th>c</th>\n",
       "      <td>3</td>\n",
       "    </tr>\n",
       "    <tr>\n",
       "      <th>d</th>\n",
       "      <td>4</td>\n",
       "    </tr>\n",
       "  </tbody>\n",
       "</table>\n",
       "</div>"
      ],
      "text/plain": [
       "   col1\n",
       "a     1\n",
       "b     2\n",
       "c     3\n",
       "d     4"
      ]
     },
     "execution_count": 4,
     "metadata": {},
     "output_type": "execute_result"
    }
   ],
   "source": [
    "# given the following DataFrame, delete row 'd' from it\n",
    "df = pd.DataFrame({'col1': [1,2,3,4]}, index = ['a','b','c','d'])\n",
    "df"
   ]
  },
  {
   "cell_type": "code",
   "execution_count": 5,
   "metadata": {},
   "outputs": [
    {
     "data": {
      "text/html": [
       "<div>\n",
       "<table border=\"1\" class=\"dataframe\">\n",
       "  <thead>\n",
       "    <tr style=\"text-align: right;\">\n",
       "      <th></th>\n",
       "      <th>col1</th>\n",
       "    </tr>\n",
       "  </thead>\n",
       "  <tbody>\n",
       "    <tr>\n",
       "      <th>a</th>\n",
       "      <td>1</td>\n",
       "    </tr>\n",
       "    <tr>\n",
       "      <th>b</th>\n",
       "      <td>2</td>\n",
       "    </tr>\n",
       "    <tr>\n",
       "      <th>c</th>\n",
       "      <td>3</td>\n",
       "    </tr>\n",
       "  </tbody>\n",
       "</table>\n",
       "</div>"
      ],
      "text/plain": [
       "   col1\n",
       "a     1\n",
       "b     2\n",
       "c     3"
      ]
     },
     "execution_count": 5,
     "metadata": {},
     "output_type": "execute_result"
    }
   ],
   "source": [
    "df.drop('d', axis=0, inplace=True)\n",
    "df"
   ]
  },
  {
   "cell_type": "markdown",
   "metadata": {},
   "source": [
    "## 3. Creating a DataFrame from a few Series"
   ]
  },
  {
   "cell_type": "code",
   "execution_count": 6,
   "metadata": {},
   "outputs": [
    {
     "data": {
      "text/html": [
       "<div>\n",
       "<table border=\"1\" class=\"dataframe\">\n",
       "  <thead>\n",
       "    <tr style=\"text-align: right;\">\n",
       "      <th></th>\n",
       "      <th>a</th>\n",
       "      <th>b</th>\n",
       "      <th>c</th>\n",
       "    </tr>\n",
       "  </thead>\n",
       "  <tbody>\n",
       "    <tr>\n",
       "      <th>0</th>\n",
       "      <td>0.225839</td>\n",
       "      <td>-0.129980</td>\n",
       "      <td>1.092328</td>\n",
       "    </tr>\n",
       "    <tr>\n",
       "      <th>1</th>\n",
       "      <td>-2.111709</td>\n",
       "      <td>0.429975</td>\n",
       "      <td>-0.018653</td>\n",
       "    </tr>\n",
       "    <tr>\n",
       "      <th>2</th>\n",
       "      <td>0.288541</td>\n",
       "      <td>0.124234</td>\n",
       "      <td>0.209816</td>\n",
       "    </tr>\n",
       "    <tr>\n",
       "      <th>3</th>\n",
       "      <td>0.568558</td>\n",
       "      <td>0.392430</td>\n",
       "      <td>1.004320</td>\n",
       "    </tr>\n",
       "    <tr>\n",
       "      <th>4</th>\n",
       "      <td>1.135196</td>\n",
       "      <td>-0.090413</td>\n",
       "      <td>0.446329</td>\n",
       "    </tr>\n",
       "    <tr>\n",
       "      <th>5</th>\n",
       "      <td>1.456010</td>\n",
       "      <td>-0.700440</td>\n",
       "      <td>-0.350539</td>\n",
       "    </tr>\n",
       "  </tbody>\n",
       "</table>\n",
       "</div>"
      ],
      "text/plain": [
       "          a         b         c\n",
       "0  0.225839 -0.129980  1.092328\n",
       "1 -2.111709  0.429975 -0.018653\n",
       "2  0.288541  0.124234  0.209816\n",
       "3  0.568558  0.392430  1.004320\n",
       "4  1.135196 -0.090413  0.446329\n",
       "5  1.456010 -0.700440 -0.350539"
      ]
     },
     "execution_count": 6,
     "metadata": {},
     "output_type": "execute_result"
    }
   ],
   "source": [
    "# given the following three Series, create a DataFrame such that it holds them as its columns\n",
    "ser_1 = pd.Series(np.random.randn(6))\n",
    "ser_2 = pd.Series(np.random.randn(6))\n",
    "ser_3 = pd.Series(np.random.randn(6))\n",
    "df = pd.DataFrame({'a': ser_1, 'b': ser_2, 'c': ser_3})\n",
    "df"
   ]
  },
  {
   "cell_type": "markdown",
   "metadata": {},
   "source": [
    "# Pandas questions: Indexing"
   ]
  },
  {
   "cell_type": "markdown",
   "metadata": {},
   "source": [
    "## 1. Indexing into a specific column"
   ]
  },
  {
   "cell_type": "code",
   "execution_count": 7,
   "metadata": {},
   "outputs": [
    {
     "data": {
      "text/html": [
       "<div>\n",
       "<table border=\"1\" class=\"dataframe\">\n",
       "  <thead>\n",
       "    <tr style=\"text-align: right;\">\n",
       "      <th></th>\n",
       "      <th>col_1</th>\n",
       "      <th>col_2</th>\n",
       "      <th>col_3</th>\n",
       "    </tr>\n",
       "  </thead>\n",
       "  <tbody>\n",
       "    <tr>\n",
       "      <th>obs1</th>\n",
       "      <td>0.12</td>\n",
       "      <td>0.9</td>\n",
       "      <td>NaN</td>\n",
       "    </tr>\n",
       "    <tr>\n",
       "      <th>obs2</th>\n",
       "      <td>7.00</td>\n",
       "      <td>9.0</td>\n",
       "      <td>NaN</td>\n",
       "    </tr>\n",
       "    <tr>\n",
       "      <th>obs3</th>\n",
       "      <td>45.00</td>\n",
       "      <td>34.0</td>\n",
       "      <td>NaN</td>\n",
       "    </tr>\n",
       "    <tr>\n",
       "      <th>obs4</th>\n",
       "      <td>10.00</td>\n",
       "      <td>11.0</td>\n",
       "      <td>NaN</td>\n",
       "    </tr>\n",
       "  </tbody>\n",
       "</table>\n",
       "</div>"
      ],
      "text/plain": [
       "      col_1  col_2 col_3\n",
       "obs1   0.12    0.9   NaN\n",
       "obs2   7.00    9.0   NaN\n",
       "obs3  45.00   34.0   NaN\n",
       "obs4  10.00   11.0   NaN"
      ]
     },
     "execution_count": 7,
     "metadata": {},
     "output_type": "execute_result"
    }
   ],
   "source": [
    "# given the following DataFrame, try to index into the 'col_2' column\n",
    "df = pd.DataFrame(data={'col_1': [0.12, 7, 45, 10], 'col_2': [0.9, 9, 34, 11]},\n",
    "                  columns=['col_1', 'col_2', 'col_3'],\n",
    "                  index=['obs1', 'obs2', 'obs3', 'obs4'])\n",
    "df"
   ]
  },
  {
   "cell_type": "code",
   "execution_count": 8,
   "metadata": {},
   "outputs": [
    {
     "data": {
      "text/plain": [
       "obs1     0.9\n",
       "obs2     9.0\n",
       "obs3    34.0\n",
       "obs4    11.0\n",
       "Name: col_2, dtype: float64"
      ]
     },
     "execution_count": 8,
     "metadata": {},
     "output_type": "execute_result"
    }
   ],
   "source": [
    "df.col_2"
   ]
  },
  {
   "cell_type": "markdown",
   "metadata": {},
   "source": [
    "## 2. Label-based indexing"
   ]
  },
  {
   "cell_type": "code",
   "execution_count": 9,
   "metadata": {},
   "outputs": [
    {
     "data": {
      "text/plain": [
       "col_1     45\n",
       "col_2     34\n",
       "col_3    NaN\n",
       "Name: obs3, dtype: object"
      ]
     },
     "execution_count": 9,
     "metadata": {},
     "output_type": "execute_result"
    }
   ],
   "source": [
    "# using the same DataFrame, index into the row whose index is 'obs3'\n",
    "df.ix['obs3']"
   ]
  },
  {
   "cell_type": "code",
   "execution_count": 10,
   "metadata": {},
   "outputs": [
    {
     "data": {
      "text/plain": [
       "col_1     45\n",
       "col_2     34\n",
       "col_3    NaN\n",
       "Name: obs3, dtype: object"
      ]
     },
     "execution_count": 10,
     "metadata": {},
     "output_type": "execute_result"
    }
   ],
   "source": [
    "df.loc['obs3']"
   ]
  },
  {
   "cell_type": "markdown",
   "metadata": {},
   "source": [
    "## 2. Position-based indexing"
   ]
  },
  {
   "cell_type": "code",
   "execution_count": 11,
   "metadata": {},
   "outputs": [
    {
     "data": {
      "text/plain": [
       "col_1    0.12\n",
       "col_2     0.9\n",
       "col_3     NaN\n",
       "Name: obs1, dtype: object"
      ]
     },
     "execution_count": 11,
     "metadata": {},
     "output_type": "execute_result"
    }
   ],
   "source": [
    "# using the same DataFrame, index into into its first row\n",
    "df.ix[0]"
   ]
  },
  {
   "cell_type": "code",
   "execution_count": 12,
   "metadata": {},
   "outputs": [
    {
     "data": {
      "text/plain": [
       "col_1    0.12\n",
       "col_2     0.9\n",
       "col_3     NaN\n",
       "Name: obs1, dtype: object"
      ]
     },
     "execution_count": 12,
     "metadata": {},
     "output_type": "execute_result"
    }
   ],
   "source": [
    "df.iloc[0]"
   ]
  },
  {
   "cell_type": "markdown",
   "metadata": {},
   "source": [
    "# Mini-Challenge prep: data loading\n",
    "\n",
    "## 1. How to load the `users` and `movies` portions of MovieLens"
   ]
  },
  {
   "cell_type": "code",
   "execution_count": 13,
   "metadata": {},
   "outputs": [],
   "source": [
    "import pandas as pd\n",
    "\n",
    "users = pd.read_table('data/ml-1m/users.dat',\n",
    "                      sep='::', header=None,\n",
    "                      names=['user_id', 'gender', 'age', 'occupation', 'zip'], engine='python')\n",
    "\n",
    "movies = pd.read_table('data/ml-1m/movies.dat',\n",
    "                       sep='::', header=None,\n",
    "                       names=['movie_id', 'title', 'genres'], engine='python')"
   ]
  },
  {
   "cell_type": "code",
   "execution_count": 14,
   "metadata": {},
   "outputs": [
    {
     "data": {
      "text/html": [
       "<div>\n",
       "<table border=\"1\" class=\"dataframe\">\n",
       "  <thead>\n",
       "    <tr style=\"text-align: right;\">\n",
       "      <th></th>\n",
       "      <th>user_id</th>\n",
       "      <th>gender</th>\n",
       "      <th>age</th>\n",
       "      <th>occupation</th>\n",
       "      <th>zip</th>\n",
       "    </tr>\n",
       "  </thead>\n",
       "  <tbody>\n",
       "    <tr>\n",
       "      <th>0</th>\n",
       "      <td>1</td>\n",
       "      <td>F</td>\n",
       "      <td>1</td>\n",
       "      <td>10</td>\n",
       "      <td>48067</td>\n",
       "    </tr>\n",
       "    <tr>\n",
       "      <th>1</th>\n",
       "      <td>2</td>\n",
       "      <td>M</td>\n",
       "      <td>56</td>\n",
       "      <td>16</td>\n",
       "      <td>70072</td>\n",
       "    </tr>\n",
       "    <tr>\n",
       "      <th>2</th>\n",
       "      <td>3</td>\n",
       "      <td>M</td>\n",
       "      <td>25</td>\n",
       "      <td>15</td>\n",
       "      <td>55117</td>\n",
       "    </tr>\n",
       "    <tr>\n",
       "      <th>3</th>\n",
       "      <td>4</td>\n",
       "      <td>M</td>\n",
       "      <td>45</td>\n",
       "      <td>7</td>\n",
       "      <td>02460</td>\n",
       "    </tr>\n",
       "    <tr>\n",
       "      <th>4</th>\n",
       "      <td>5</td>\n",
       "      <td>M</td>\n",
       "      <td>25</td>\n",
       "      <td>20</td>\n",
       "      <td>55455</td>\n",
       "    </tr>\n",
       "  </tbody>\n",
       "</table>\n",
       "</div>"
      ],
      "text/plain": [
       "   user_id gender  age  occupation    zip\n",
       "0        1      F    1          10  48067\n",
       "1        2      M   56          16  70072\n",
       "2        3      M   25          15  55117\n",
       "3        4      M   45           7  02460\n",
       "4        5      M   25          20  55455"
      ]
     },
     "execution_count": 14,
     "metadata": {},
     "output_type": "execute_result"
    }
   ],
   "source": [
    "users.head()"
   ]
  },
  {
   "cell_type": "code",
   "execution_count": 15,
   "metadata": {},
   "outputs": [
    {
     "data": {
      "text/html": [
       "<div>\n",
       "<table border=\"1\" class=\"dataframe\">\n",
       "  <thead>\n",
       "    <tr style=\"text-align: right;\">\n",
       "      <th></th>\n",
       "      <th>movie_id</th>\n",
       "      <th>title</th>\n",
       "      <th>genres</th>\n",
       "    </tr>\n",
       "  </thead>\n",
       "  <tbody>\n",
       "    <tr>\n",
       "      <th>0</th>\n",
       "      <td>1</td>\n",
       "      <td>Toy Story (1995)</td>\n",
       "      <td>Animation|Children's|Comedy</td>\n",
       "    </tr>\n",
       "    <tr>\n",
       "      <th>1</th>\n",
       "      <td>2</td>\n",
       "      <td>Jumanji (1995)</td>\n",
       "      <td>Adventure|Children's|Fantasy</td>\n",
       "    </tr>\n",
       "    <tr>\n",
       "      <th>2</th>\n",
       "      <td>3</td>\n",
       "      <td>Grumpier Old Men (1995)</td>\n",
       "      <td>Comedy|Romance</td>\n",
       "    </tr>\n",
       "    <tr>\n",
       "      <th>3</th>\n",
       "      <td>4</td>\n",
       "      <td>Waiting to Exhale (1995)</td>\n",
       "      <td>Comedy|Drama</td>\n",
       "    </tr>\n",
       "    <tr>\n",
       "      <th>4</th>\n",
       "      <td>5</td>\n",
       "      <td>Father of the Bride Part II (1995)</td>\n",
       "      <td>Comedy</td>\n",
       "    </tr>\n",
       "  </tbody>\n",
       "</table>\n",
       "</div>"
      ],
      "text/plain": [
       "   movie_id                               title                        genres\n",
       "0         1                    Toy Story (1995)   Animation|Children's|Comedy\n",
       "1         2                      Jumanji (1995)  Adventure|Children's|Fantasy\n",
       "2         3             Grumpier Old Men (1995)                Comedy|Romance\n",
       "3         4            Waiting to Exhale (1995)                  Comedy|Drama\n",
       "4         5  Father of the Bride Part II (1995)                        Comedy"
      ]
     },
     "execution_count": 15,
     "metadata": {},
     "output_type": "execute_result"
    }
   ],
   "source": [
    "movies.head()"
   ]
  },
  {
   "cell_type": "markdown",
   "metadata": {},
   "source": [
    "## 2. How to load the training and testing subsets"
   ]
  },
  {
   "cell_type": "code",
   "execution_count": 16,
   "metadata": {},
   "outputs": [],
   "source": [
    "movielens_train = pd.read_csv('data/movielens-train.csv', index_col=0)\n",
    "movielens_test = pd.read_csv('data/movielens-test.csv', index_col=0)\n",
    "movielens = pd.concat([movielens_train, movielens_test])"
   ]
  },
  {
   "cell_type": "code",
   "execution_count": 17,
   "metadata": {},
   "outputs": [
    {
     "data": {
      "text/html": [
       "<div>\n",
       "<table border=\"1\" class=\"dataframe\">\n",
       "  <thead>\n",
       "    <tr style=\"text-align: right;\">\n",
       "      <th></th>\n",
       "      <th>user_id</th>\n",
       "      <th>movie_id</th>\n",
       "      <th>rating</th>\n",
       "      <th>timestamp</th>\n",
       "      <th>gender</th>\n",
       "      <th>age</th>\n",
       "      <th>occupation</th>\n",
       "      <th>zip</th>\n",
       "      <th>title</th>\n",
       "      <th>genres</th>\n",
       "      <th>for_testing</th>\n",
       "    </tr>\n",
       "  </thead>\n",
       "  <tbody>\n",
       "    <tr>\n",
       "      <th>593263</th>\n",
       "      <td>3562</td>\n",
       "      <td>3798</td>\n",
       "      <td>4</td>\n",
       "      <td>967332344</td>\n",
       "      <td>F</td>\n",
       "      <td>25</td>\n",
       "      <td>6</td>\n",
       "      <td>32812</td>\n",
       "      <td>What Lies Beneath (2000)</td>\n",
       "      <td>Thriller</td>\n",
       "      <td>False</td>\n",
       "    </tr>\n",
       "    <tr>\n",
       "      <th>235597</th>\n",
       "      <td>1051</td>\n",
       "      <td>3793</td>\n",
       "      <td>4</td>\n",
       "      <td>974958593</td>\n",
       "      <td>F</td>\n",
       "      <td>25</td>\n",
       "      <td>0</td>\n",
       "      <td>60513</td>\n",
       "      <td>X-Men (2000)</td>\n",
       "      <td>Action|Sci-Fi</td>\n",
       "      <td>False</td>\n",
       "    </tr>\n",
       "    <tr>\n",
       "      <th>219003</th>\n",
       "      <td>3727</td>\n",
       "      <td>2366</td>\n",
       "      <td>3</td>\n",
       "      <td>966309522</td>\n",
       "      <td>M</td>\n",
       "      <td>35</td>\n",
       "      <td>7</td>\n",
       "      <td>74401</td>\n",
       "      <td>King Kong (1933)</td>\n",
       "      <td>Action|Adventure|Horror</td>\n",
       "      <td>False</td>\n",
       "    </tr>\n",
       "    <tr>\n",
       "      <th>685090</th>\n",
       "      <td>4666</td>\n",
       "      <td>1094</td>\n",
       "      <td>3</td>\n",
       "      <td>963843918</td>\n",
       "      <td>M</td>\n",
       "      <td>35</td>\n",
       "      <td>1</td>\n",
       "      <td>53704</td>\n",
       "      <td>Crying Game, The (1992)</td>\n",
       "      <td>Drama|Romance|War</td>\n",
       "      <td>False</td>\n",
       "    </tr>\n",
       "    <tr>\n",
       "      <th>312377</th>\n",
       "      <td>3261</td>\n",
       "      <td>1095</td>\n",
       "      <td>4</td>\n",
       "      <td>968251750</td>\n",
       "      <td>M</td>\n",
       "      <td>45</td>\n",
       "      <td>20</td>\n",
       "      <td>87505</td>\n",
       "      <td>Glengarry Glen Ross (1992)</td>\n",
       "      <td>Drama</td>\n",
       "      <td>False</td>\n",
       "    </tr>\n",
       "  </tbody>\n",
       "</table>\n",
       "</div>"
      ],
      "text/plain": [
       "        user_id  movie_id  rating  timestamp gender  age  occupation    zip  \\\n",
       "593263     3562      3798       4  967332344      F   25           6  32812   \n",
       "235597     1051      3793       4  974958593      F   25           0  60513   \n",
       "219003     3727      2366       3  966309522      M   35           7  74401   \n",
       "685090     4666      1094       3  963843918      M   35           1  53704   \n",
       "312377     3261      1095       4  968251750      M   45          20  87505   \n",
       "\n",
       "                             title                   genres for_testing  \n",
       "593263    What Lies Beneath (2000)                 Thriller       False  \n",
       "235597                X-Men (2000)            Action|Sci-Fi       False  \n",
       "219003            King Kong (1933)  Action|Adventure|Horror       False  \n",
       "685090     Crying Game, The (1992)        Drama|Romance|War       False  \n",
       "312377  Glengarry Glen Ross (1992)                    Drama       False  "
      ]
     },
     "execution_count": 17,
     "metadata": {},
     "output_type": "execute_result"
    }
   ],
   "source": [
    "movielens.head()"
   ]
  },
  {
   "cell_type": "markdown",
   "metadata": {},
   "source": [
    "# Mini-Challenge prep: evaluation functions\n",
    "\n",
    "These are the two functions that you will need to test your `estimate` method."
   ]
  },
  {
   "cell_type": "code",
   "execution_count": 18,
   "metadata": {},
   "outputs": [],
   "source": [
    "def compute_rmse(y_pred, y_true):\n",
    "    \"\"\" Compute Root Mean Squared Error. \"\"\"\n",
    "    \n",
    "    return np.sqrt(np.mean(np.power(y_pred - y_true, 2)))"
   ]
  },
  {
   "cell_type": "code",
   "execution_count": 19,
   "metadata": {},
   "outputs": [],
   "source": [
    "def evaluate(estimate_f):\n",
    "    \"\"\" RMSE-based predictive performance evaluation with pandas. \"\"\"\n",
    "    \n",
    "    ids_to_estimate = zip(movielens_test.user_id, movielens_test.movie_id)\n",
    "    estimated = np.array([estimate_f(u,i) for (u,i) in ids_to_estimate])\n",
    "    real = movielens_test.rating.values\n",
    "    return compute_rmse(estimated, real)"
   ]
  },
  {
   "cell_type": "markdown",
   "metadata": {},
   "source": [
    "Test a dummy solution!"
   ]
  },
  {
   "cell_type": "code",
   "execution_count": 20,
   "metadata": {},
   "outputs": [],
   "source": [
    "def my_estimate_func(user_id, movie_id):\n",
    "    return 3.0"
   ]
  },
  {
   "cell_type": "markdown",
   "metadata": {},
   "source": [
    "You can test for performance with the following line, which assumes that your function is called `my_estimate_func`:"
   ]
  },
  {
   "cell_type": "code",
   "execution_count": 21,
   "metadata": {},
   "outputs": [
    {
     "name": "stdout",
     "output_type": "stream",
     "text": [
      "RMSE for my estimate function: 1.23237195265\n"
     ]
    }
   ],
   "source": [
    "print 'RMSE for my estimate function: %s' % evaluate(my_estimate_func)"
   ]
  },
  {
   "cell_type": "markdown",
   "metadata": {},
   "source": [
    "# Reco systems questions: Minimal reco engine v1.0"
   ]
  },
  {
   "cell_type": "markdown",
   "metadata": {},
   "source": [
    "## 1. Simple collaborative filtering using mean ratings"
   ]
  },
  {
   "cell_type": "code",
   "execution_count": 22,
   "metadata": {},
   "outputs": [
    {
     "data": {
      "text/plain": [
       "4.0"
      ]
     },
     "execution_count": 22,
     "metadata": {},
     "output_type": "execute_result"
    }
   ],
   "source": [
    "# write an 'estimate' function that computes the mean rating of a particular user\n",
    "def collab_mean(user_id, movie_id):\n",
    "    # first, index into all ratings of this movie\n",
    "    user_condition = movielens_train.user_id != user_id\n",
    "    movie_condition = movielens_train.movie_id == movie_id\n",
    "    ratings_by_others = movielens_train.loc[user_condition & movie_condition]\n",
    "    \n",
    "    # second, compute the mean of those ratings\n",
    "    if ratings_by_others.empty:\n",
    "        return 3.0\n",
    "    else:\n",
    "        return ratings_by_others.rating.mean()\n",
    "    \n",
    "# try it out for a user_id, movie_id pair\n",
    "collab_mean(4653, 2648)"
   ]
  },
  {
   "cell_type": "code",
   "execution_count": 23,
   "metadata": {},
   "outputs": [
    {
     "name": "stdout",
     "output_type": "stream",
     "text": [
      "RMSE for collab_mean: 1.1234279896\n"
     ]
    }
   ],
   "source": [
    "print 'RMSE for collab_mean: %s' % evaluate(collab_mean)"
   ]
  },
  {
   "cell_type": "markdown",
   "metadata": {},
   "source": [
    "# Mini-Challenge: first round\n",
    "Implement an `estimate` function of your own using other similarity notions, eg.:\n",
    "\n",
    "- collaborative filter based on age similarities\n",
    "- collaborative filter based on zip code similarities\n",
    "- collaborative filter based on occupation similarities\n",
    "- content filter based on movie genre"
   ]
  },
  {
   "cell_type": "code",
   "execution_count": 24,
   "metadata": {},
   "outputs": [
    {
     "name": "stdout",
     "output_type": "stream",
     "text": [
      "RMSE for collab_age: 1.2097983189\n"
     ]
    }
   ],
   "source": [
    "def collab_age(user_id, movie_id):\n",
    "    # first, index into all ratings of this movie\n",
    "    user_condition = movielens_train.user_id != user_id\n",
    "    movie_condition = movielens_train.movie_id == movie_id\n",
    "    ratings_by_others = movielens_train.loc[user_condition & movie_condition]\n",
    "    \n",
    "    if ratings_by_others.empty:\n",
    "        return 3.0\n",
    "    \n",
    "    means_by_age = ratings_by_others.pivot_table('rating', index='movie_id', columns='age')\n",
    "    user_age = users.ix[user_id, 'age']\n",
    "    \n",
    "    if user_age in means_by_age.columns:\n",
    "        return means_by_age.ix[movie_id, user_age]\n",
    "    else:\n",
    "        return means_by_age.ix[movie_id].mean()\n",
    "\n",
    "print 'RMSE for collab_age: %s' % evaluate(collab_age)"
   ]
  },
  {
   "cell_type": "code",
   "execution_count": 25,
   "metadata": {},
   "outputs": [
    {
     "name": "stdout",
     "output_type": "stream",
     "text": [
      "RMSE for collab_age2: 1.09093791784\n"
     ]
    }
   ],
   "source": [
    "def collab_age2(user_id, movie_id):\n",
    "    # first, index into all ratings of this movie\n",
    "    user_condition = movielens_train.user_id != user_id\n",
    "    age = np.unique(movielens_train.loc[~user_condition].age)[0]\n",
    "    age_condition = movielens_train.age == age\n",
    "    ratings_by_others = movielens_train.loc[user_condition & age_condition]\n",
    "    \n",
    "    # second, compute the mean of those ratings\n",
    "    if ratings_by_others.empty:\n",
    "        return 3.0\n",
    "    else:\n",
    "        return ratings_by_others.rating.mean()\n",
    "\n",
    "print 'RMSE for collab_age2: %s' % evaluate(collab_age2)"
   ]
  },
  {
   "cell_type": "code",
   "execution_count": 26,
   "metadata": {},
   "outputs": [
    {
     "name": "stdout",
     "output_type": "stream",
     "text": [
      "RMSE for collab_zip: 1.12436927507\n"
     ]
    }
   ],
   "source": [
    "def collab_zip(user_id, movie_id):\n",
    "    # first, index into all ratings of this movie\n",
    "    user_condition = movielens_train.user_id != user_id\n",
    "    movie_condition = movielens_train.movie_id == movie_id\n",
    "    ratings_by_others = movielens_train.loc[user_condition & movie_condition]\n",
    "    \n",
    "    if ratings_by_others.empty:\n",
    "        return 3.0\n",
    "    \n",
    "    means_by_zip = ratings_by_others.pivot_table('rating', index='movie_id', columns='zip')\n",
    "    user_zip = users.ix[user_id, 'zip']\n",
    "    \n",
    "    if user_zip in means_by_zip.columns:\n",
    "        return means_by_zip.ix[movie_id, user_zip]\n",
    "    else:\n",
    "        return means_by_zip.ix[movie_id].mean()\n",
    "\n",
    "print 'RMSE for collab_zip: %s' % evaluate(collab_zip)"
   ]
  },
  {
   "cell_type": "code",
   "execution_count": 27,
   "metadata": {},
   "outputs": [
    {
     "name": "stdout",
     "output_type": "stream",
     "text": [
      "RMSE for collab_job: 1.18662369595\n"
     ]
    }
   ],
   "source": [
    "def collab_job(user_id, movie_id):\n",
    "    # first, index into all ratings of this movie\n",
    "    user_condition = movielens_train.user_id != user_id\n",
    "    movie_condition = movielens_train.movie_id == movie_id\n",
    "    ratings_by_others = movielens_train.loc[user_condition & movie_condition]\n",
    "    \n",
    "    if ratings_by_others.empty:\n",
    "        return 3.0\n",
    "    \n",
    "    means_by_job = ratings_by_others.pivot_table('rating', index='movie_id', columns='occupation')\n",
    "    user_job = users.ix[user_id, 'occupation']\n",
    "    \n",
    "    if user_job in means_by_job.columns:\n",
    "        return means_by_job.ix[movie_id, user_job]\n",
    "    else:\n",
    "        return means_by_job.ix[movie_id].mean()\n",
    "\n",
    "print 'RMSE for collab_job: %s' % evaluate(collab_job)"
   ]
  },
  {
   "cell_type": "markdown",
   "metadata": {},
   "source": [
    "# Mini-Challenge: second round\n",
    "Implement an `estimate` function of your own using other custom similarity notions, eg.:\n",
    "\n",
    "- euclidean\n",
    "- cosine"
   ]
  },
  {
   "cell_type": "code",
   "execution_count": 28,
   "metadata": {
    "collapsed": true
   },
   "outputs": [],
   "source": [
    "def euclidean(s1, s2):\n",
    "    \"\"\"Take two pd.Series objects and return their euclidean 'similarity'.\"\"\"\n",
    "    diff = s1 - s2\n",
    "    return 1 / (1 + np.sqrt(np.sum(diff ** 2)))"
   ]
  },
  {
   "cell_type": "code",
   "execution_count": 29,
   "metadata": {
    "collapsed": true
   },
   "outputs": [],
   "source": [
    "def cosine(s1, s2):\n",
    "    \"\"\"Take two pd.Series objects and return their cosine similarity.\"\"\"\n",
    "    return np.sum(s1 * s2) / np.sqrt(np.sum(s1 ** 2) * np.sum(s2 ** 2))"
   ]
  },
  {
   "cell_type": "code",
   "execution_count": 30,
   "metadata": {
    "collapsed": true
   },
   "outputs": [],
   "source": [
    "def pearson(s1, s2):\n",
    "    \"\"\"Take two pd.Series objects and return a pearson correlation.\"\"\"\n",
    "    s1_c = s1 - s1.mean()\n",
    "    s2_c = s2 - s2.mean()\n",
    "    return np.sum(s1_c * s2_c) / np.sqrt(np.sum(s1_c ** 2) * np.sum(s2_c ** 2))"
   ]
  },
  {
   "cell_type": "code",
   "execution_count": 31,
   "metadata": {
    "collapsed": true
   },
   "outputs": [],
   "source": [
    "def jaccard(s1, s2):\n",
    "    dotp = np.sum(s1 * s2)\n",
    "    return dotp / (np.sum(s1 ** 2) + np.sum(s2 ** 2) - dotp)"
   ]
  },
  {
   "cell_type": "code",
   "execution_count": 32,
   "metadata": {
    "collapsed": true
   },
   "outputs": [],
   "source": [
    "class CollabSimFun:\n",
    "    \"\"\" Collaborative filtering using a custom sim(u,u'). \"\"\"\n",
    "\n",
    "    def learn(self):\n",
    "        \"\"\" Prepare datastructures for estimation. \"\"\"\n",
    "        \n",
    "        self.all_user_profiles = movielens.pivot_table('rating', index='movie_id', columns='user_id')\n",
    "\n",
    "    def similarity(self, simfun):\n",
    "        self.simfun = simfun\n",
    "\n",
    "    def estimate(self, user_id, movie_id):\n",
    "        \"\"\" Ratings weighted by correlation similarity. \"\"\"\n",
    "        \n",
    "        user_condition = movielens_train.user_id != user_id\n",
    "        movie_condition = movielens_train.movie_id == movie_id\n",
    "        ratings_by_others = movielens_train.loc[user_condition & movie_condition]\n",
    "        \n",
    "        if ratings_by_others.empty: \n",
    "            return 3.0\n",
    "        \n",
    "        ratings_by_others.set_index('user_id', inplace=True)\n",
    "        their_ids = ratings_by_others.index\n",
    "        their_ratings = ratings_by_others.rating\n",
    "        their_profiles = self.all_user_profiles[their_ids]\n",
    "        user_profile = self.all_user_profiles[user_id]\n",
    "        sims = their_profiles.apply(lambda profile: self.simfun(profile, user_profile), axis=0)\n",
    "        ratings_sims = pd.DataFrame({'sim': sims, 'rating': their_ratings})\n",
    "        ratings_sims = ratings_sims[ratings_sims.sim > 0]\n",
    "        \n",
    "        if ratings_sims.empty:\n",
    "            return their_ratings.mean()\n",
    "        else:\n",
    "            return np.average(ratings_sims.rating, weights=ratings_sims.sim)"
   ]
  },
  {
   "cell_type": "code",
   "execution_count": 33,
   "metadata": {
    "collapsed": true
   },
   "outputs": [],
   "source": [
    "reco = CollabSimFun()\n",
    "reco.learn()"
   ]
  },
  {
   "cell_type": "code",
   "execution_count": 34,
   "metadata": {},
   "outputs": [
    {
     "name": "stdout",
     "output_type": "stream",
     "text": [
      "RMSE for CollabSimFun w/ euclidean: 0.993180683911\n"
     ]
    }
   ],
   "source": [
    "reco.similarity(euclidean)\n",
    "print 'RMSE for CollabSimFun w/ euclidean: %s' % evaluate(reco.estimate)"
   ]
  },
  {
   "cell_type": "code",
   "execution_count": 35,
   "metadata": {},
   "outputs": [
    {
     "name": "stdout",
     "output_type": "stream",
     "text": [
      "RMSE for CollabSimFun w/ cosine: 1.12037146911\n"
     ]
    }
   ],
   "source": [
    "reco.similarity(cosine)\n",
    "print 'RMSE for CollabSimFun w/ cosine: %s' % evaluate(reco.estimate)"
   ]
  },
  {
   "cell_type": "code",
   "execution_count": 36,
   "metadata": {},
   "outputs": [
    {
     "name": "stderr",
     "output_type": "stream",
     "text": [
      "/Users/klane/.local/share/virtualenvs/springboard-d6BFbTPn/lib/python2.7/site-packages/ipykernel/__main__.py:5: RuntimeWarning: invalid value encountered in double_scalars\n"
     ]
    },
    {
     "name": "stdout",
     "output_type": "stream",
     "text": [
      "RMSE for CollabSimFun w/ pearson: 1.06037523514\n"
     ]
    }
   ],
   "source": [
    "reco.similarity(pearson)\n",
    "print 'RMSE for CollabSimFun w/ pearson: %s' % evaluate(reco.estimate)"
   ]
  },
  {
   "cell_type": "code",
   "execution_count": 37,
   "metadata": {},
   "outputs": [
    {
     "name": "stdout",
     "output_type": "stream",
     "text": [
      "RMSE for CollabSimFun w/ jaccard: 1.11772188908\n"
     ]
    }
   ],
   "source": [
    "reco.similarity(jaccard)\n",
    "print 'RMSE for CollabSimFun w/ jaccard: %s' % evaluate(reco.estimate)"
   ]
  },
  {
   "cell_type": "code",
   "execution_count": 38,
   "metadata": {},
   "outputs": [
    {
     "name": "stdout",
     "output_type": "stream",
     "text": [
      "RMSE for hybrid_fun: 1.05782017012\n"
     ]
    }
   ],
   "source": [
    "overall_mean = movielens_train['rating'].mean()\n",
    "\n",
    "def hybrid_fun(user_id, movie_id):\n",
    "    measures = [\n",
    "        (0.6, movielens_train.loc[movielens_train.movie_id == movie_id]),\n",
    "        (0.4, movielens_train.loc[reduce(np.logical_and,\n",
    "                                        [movielens_train.gender == users.ix[user_id, 'gender'],\n",
    "                                         movielens_train.occupation == users.ix[user_id, 'occupation'],\n",
    "                                         abs(movielens_train.age - users.ix[user_id, 'age']) <= 10])])\n",
    "    ]\n",
    "    \n",
    "    return sum((weight * (measure.empty and overall_mean or measure['rating'].mean())\n",
    "                for weight, measure in measures))\n",
    "    \n",
    "print 'RMSE for hybrid_fun: %s' % evaluate(hybrid_fun)"
   ]
  }
 ],
 "metadata": {
  "kernelspec": {
   "display_name": "Python 3",
   "language": "python",
   "name": "python3"
  },
  "language_info": {
   "codemirror_mode": {
    "name": "ipython",
    "version": 3
   },
   "file_extension": ".py",
   "mimetype": "text/x-python",
   "name": "python",
   "nbconvert_exporter": "python",
   "pygments_lexer": "ipython3",
   "version": "3.6.2"
  }
 },
 "nbformat": 4,
 "nbformat_minor": 1
}
