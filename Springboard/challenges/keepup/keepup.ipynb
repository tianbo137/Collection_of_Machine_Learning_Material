{
 "cells": [
  {
   "cell_type": "code",
   "execution_count": 1,
   "metadata": {
    "collapsed": true
   },
   "outputs": [],
   "source": [
    "import re\n",
    "import gzip\n",
    "import pandas as pd\n",
    "import matplotlib.pyplot as plt\n",
    "import seaborn as sns\n",
    "from collections import Counter, defaultdict"
   ]
  },
  {
   "cell_type": "markdown",
   "metadata": {},
   "source": [
    "# Reading the Data"
   ]
  },
  {
   "cell_type": "code",
   "execution_count": 2,
   "metadata": {
    "collapsed": true
   },
   "outputs": [],
   "source": [
    "product_ids = []\n",
    "product_title = []\n",
    "product_group = []\n",
    "product_salesrank = []\n",
    "product_reviews = []\n",
    "product_downloaded = []\n",
    "product_rating = []\n",
    "\n",
    "review_product = []\n",
    "review_date = []\n",
    "review_customer = []\n",
    "review_rating = []\n",
    "review_vote = []\n",
    "review_helpful = []\n",
    "\n",
    "num_categories = 0\n",
    "categories = defaultdict(list)\n",
    "subcategories = defaultdict(list)\n",
    "cat_flag = False\n",
    "\n",
    "with gzip.open('amazon-meta.txt.gz', 'rt') as infile:\n",
    "    for line in infile:\n",
    "        if line.startswith('ASIN:'):\n",
    "            temp, product = line.split()\n",
    "        elif line.strip().startswith('title:'):\n",
    "            temp, title = line.split(':', maxsplit=1)\n",
    "            title = title.strip()\n",
    "            product_ids.append(product)\n",
    "            product_title.append(title)\n",
    "        elif line.strip().startswith('group:'):\n",
    "            temp, group = line.split(':')\n",
    "            group = group.strip()\n",
    "            product_group.append(group)\n",
    "        elif line.strip().startswith('salesrank:'):\n",
    "            temp, salesrank = line.split()\n",
    "            product_salesrank.append(int(salesrank))\n",
    "        elif line.strip().startswith('categories:'):\n",
    "            info = line.split()\n",
    "            num_categories += int(info[1])\n",
    "            cat_flag = True\n",
    "        elif cat_flag and not line.strip().startswith('reviews:'):\n",
    "            categories[group] += [line.strip()]\n",
    "            temp = [s.strip() for s in line.split('|')]\n",
    "            subcategories[group] += [s for s in temp if len(s) > 0]\n",
    "        elif line.strip().startswith('reviews:'):\n",
    "            cat_flag = False\n",
    "            review_info = line.split()\n",
    "            product_reviews.append(int(review_info[2]))\n",
    "            product_downloaded.append(int(review_info[4]))\n",
    "            product_rating.append(float(review_info[-1]))\n",
    "        elif 'cutomer' in line:\n",
    "            review_info = line.split()\n",
    "            review_product.append(product)\n",
    "            review_date.append(review_info[0])\n",
    "            review_customer.append(review_info[2])\n",
    "            review_rating.append(int(review_info[4]))\n",
    "            review_vote.append(int(review_info[6]))\n",
    "            review_helpful.append(int(review_info[8]))\n",
    "\n",
    "products = pd.DataFrame({'product_id': product_ids, 'title': product_title, 'group': product_group,\n",
    "                         'salesrank': product_salesrank, 'reviews': product_reviews,\n",
    "                         'downloaded_reviews': product_downloaded, 'rating': product_rating})\n",
    "reviews = pd.DataFrame({'product_id': review_product, 'date': review_date, 'customer_id': review_customer, \n",
    "                       'rating': review_rating, 'votes': review_vote, 'helpful': review_helpful})"
   ]
  },
  {
   "cell_type": "code",
   "execution_count": 3,
   "metadata": {},
   "outputs": [
    {
     "data": {
      "text/html": [
       "<div>\n",
       "<style>\n",
       "    .dataframe thead tr:only-child th {\n",
       "        text-align: right;\n",
       "    }\n",
       "\n",
       "    .dataframe thead th {\n",
       "        text-align: left;\n",
       "    }\n",
       "\n",
       "    .dataframe tbody tr th {\n",
       "        vertical-align: top;\n",
       "    }\n",
       "</style>\n",
       "<table border=\"1\" class=\"dataframe\">\n",
       "  <thead>\n",
       "    <tr style=\"text-align: right;\">\n",
       "      <th></th>\n",
       "      <th>downloaded_reviews</th>\n",
       "      <th>group</th>\n",
       "      <th>product_id</th>\n",
       "      <th>rating</th>\n",
       "      <th>reviews</th>\n",
       "      <th>salesrank</th>\n",
       "      <th>title</th>\n",
       "    </tr>\n",
       "  </thead>\n",
       "  <tbody>\n",
       "    <tr>\n",
       "      <th>0</th>\n",
       "      <td>2</td>\n",
       "      <td>Book</td>\n",
       "      <td>0827229534</td>\n",
       "      <td>5.0</td>\n",
       "      <td>2</td>\n",
       "      <td>396585</td>\n",
       "      <td>Patterns of Preaching: A Sermon Sampler</td>\n",
       "    </tr>\n",
       "    <tr>\n",
       "      <th>1</th>\n",
       "      <td>12</td>\n",
       "      <td>Book</td>\n",
       "      <td>0738700797</td>\n",
       "      <td>4.5</td>\n",
       "      <td>12</td>\n",
       "      <td>168596</td>\n",
       "      <td>Candlemas: Feast of Flames</td>\n",
       "    </tr>\n",
       "    <tr>\n",
       "      <th>2</th>\n",
       "      <td>1</td>\n",
       "      <td>Book</td>\n",
       "      <td>0486287785</td>\n",
       "      <td>5.0</td>\n",
       "      <td>1</td>\n",
       "      <td>1270652</td>\n",
       "      <td>World War II Allied Fighter Planes Trading Cards</td>\n",
       "    </tr>\n",
       "    <tr>\n",
       "      <th>3</th>\n",
       "      <td>1</td>\n",
       "      <td>Book</td>\n",
       "      <td>0842328327</td>\n",
       "      <td>4.0</td>\n",
       "      <td>1</td>\n",
       "      <td>631289</td>\n",
       "      <td>Life Application Bible Commentary: 1 and 2 Tim...</td>\n",
       "    </tr>\n",
       "    <tr>\n",
       "      <th>4</th>\n",
       "      <td>0</td>\n",
       "      <td>Book</td>\n",
       "      <td>1577943082</td>\n",
       "      <td>0.0</td>\n",
       "      <td>0</td>\n",
       "      <td>455160</td>\n",
       "      <td>Prayers That Avail Much for Business: Executive</td>\n",
       "    </tr>\n",
       "  </tbody>\n",
       "</table>\n",
       "</div>"
      ],
      "text/plain": [
       "   downloaded_reviews group  product_id  rating  reviews  salesrank  \\\n",
       "0                   2  Book  0827229534     5.0        2     396585   \n",
       "1                  12  Book  0738700797     4.5       12     168596   \n",
       "2                   1  Book  0486287785     5.0        1    1270652   \n",
       "3                   1  Book  0842328327     4.0        1     631289   \n",
       "4                   0  Book  1577943082     0.0        0     455160   \n",
       "\n",
       "                                               title  \n",
       "0            Patterns of Preaching: A Sermon Sampler  \n",
       "1                         Candlemas: Feast of Flames  \n",
       "2   World War II Allied Fighter Planes Trading Cards  \n",
       "3  Life Application Bible Commentary: 1 and 2 Tim...  \n",
       "4    Prayers That Avail Much for Business: Executive  "
      ]
     },
     "execution_count": 3,
     "metadata": {},
     "output_type": "execute_result"
    }
   ],
   "source": [
    "products.head()"
   ]
  },
  {
   "cell_type": "code",
   "execution_count": 4,
   "metadata": {},
   "outputs": [
    {
     "data": {
      "text/html": [
       "<div>\n",
       "<style>\n",
       "    .dataframe thead tr:only-child th {\n",
       "        text-align: right;\n",
       "    }\n",
       "\n",
       "    .dataframe thead th {\n",
       "        text-align: left;\n",
       "    }\n",
       "\n",
       "    .dataframe tbody tr th {\n",
       "        vertical-align: top;\n",
       "    }\n",
       "</style>\n",
       "<table border=\"1\" class=\"dataframe\">\n",
       "  <thead>\n",
       "    <tr style=\"text-align: right;\">\n",
       "      <th></th>\n",
       "      <th>customer_id</th>\n",
       "      <th>date</th>\n",
       "      <th>helpful</th>\n",
       "      <th>product_id</th>\n",
       "      <th>rating</th>\n",
       "      <th>votes</th>\n",
       "    </tr>\n",
       "  </thead>\n",
       "  <tbody>\n",
       "    <tr>\n",
       "      <th>0</th>\n",
       "      <td>A2JW67OY8U6HHK</td>\n",
       "      <td>2000-7-28</td>\n",
       "      <td>9</td>\n",
       "      <td>0827229534</td>\n",
       "      <td>5</td>\n",
       "      <td>10</td>\n",
       "    </tr>\n",
       "    <tr>\n",
       "      <th>1</th>\n",
       "      <td>A2VE83MZF98ITY</td>\n",
       "      <td>2003-12-14</td>\n",
       "      <td>5</td>\n",
       "      <td>0827229534</td>\n",
       "      <td>5</td>\n",
       "      <td>6</td>\n",
       "    </tr>\n",
       "    <tr>\n",
       "      <th>2</th>\n",
       "      <td>A11NCO6YTE4BTJ</td>\n",
       "      <td>2001-12-16</td>\n",
       "      <td>4</td>\n",
       "      <td>0738700797</td>\n",
       "      <td>5</td>\n",
       "      <td>5</td>\n",
       "    </tr>\n",
       "    <tr>\n",
       "      <th>3</th>\n",
       "      <td>A9CQ3PLRNIR83</td>\n",
       "      <td>2002-1-7</td>\n",
       "      <td>5</td>\n",
       "      <td>0738700797</td>\n",
       "      <td>4</td>\n",
       "      <td>5</td>\n",
       "    </tr>\n",
       "    <tr>\n",
       "      <th>4</th>\n",
       "      <td>A13SG9ACZ9O5IM</td>\n",
       "      <td>2002-1-24</td>\n",
       "      <td>8</td>\n",
       "      <td>0738700797</td>\n",
       "      <td>5</td>\n",
       "      <td>8</td>\n",
       "    </tr>\n",
       "  </tbody>\n",
       "</table>\n",
       "</div>"
      ],
      "text/plain": [
       "      customer_id        date  helpful  product_id  rating  votes\n",
       "0  A2JW67OY8U6HHK   2000-7-28        9  0827229534       5     10\n",
       "1  A2VE83MZF98ITY  2003-12-14        5  0827229534       5      6\n",
       "2  A11NCO6YTE4BTJ  2001-12-16        4  0738700797       5      5\n",
       "3   A9CQ3PLRNIR83    2002-1-7        5  0738700797       4      5\n",
       "4  A13SG9ACZ9O5IM   2002-1-24        8  0738700797       5      8"
      ]
     },
     "execution_count": 4,
     "metadata": {},
     "output_type": "execute_result"
    }
   ],
   "source": [
    "reviews.head()"
   ]
  },
  {
   "cell_type": "markdown",
   "metadata": {},
   "source": [
    "# Investigating Ratings\n",
    "A simple bar chart shows that the ratings distribution is highly skewed and the vast majority of ratings are either a 4 or a 5. This could indicate ratings manipulation where people flood Amazon with positive reviews, or could simply indicate that people who like products are more likely to review them."
   ]
  },
  {
   "cell_type": "code",
   "execution_count": 5,
   "metadata": {},
   "outputs": [
    {
     "data": {
      "image/png": "[encoded data removed]",
      "text/plain": [
       "<matplotlib.figure.Figure at 0x10e902da0>"
      ]
     },
     "metadata": {},
     "output_type": "display_data"
    }
   ],
   "source": [
    "counts = reviews.groupby('rating').votes.count()\n",
    "sns.barplot(counts.index, 100 * counts / len(reviews), color='blue')\n",
    "plt.xlabel('Rating')\n",
    "plt.ylabel('Percentage of Reviews')\n",
    "plt.title('Most Leave Glowing Reviews')\n",
    "plt.show()"
   ]
  },
  {
   "cell_type": "markdown",
   "metadata": {},
   "source": [
    "The percentages below futher illustrate the skewness in the ratings where 60% of all reviews are 5 stars and nearly 80% are a 4 or 5."
   ]
  },
  {
   "cell_type": "code",
   "execution_count": 6,
   "metadata": {},
   "outputs": [
    {
     "name": "stdout",
     "output_type": "stream",
     "text": [
      "The average review in the dataset is 4.18\n",
      "5-star reviews make up 60.11% of all reviews\n",
      "4 and 5-star reviews make up 78.57% of all reviews\n"
     ]
    }
   ],
   "source": [
    "print('The average review in the dataset is {:.2f}'.format(reviews.rating.mean()))\n",
    "print('5-star reviews make up {:.2f}% of all reviews'.format(100 * sum(reviews.rating==5) / len(reviews)))\n",
    "print('4 and 5-star reviews make up {:.2f}% of all reviews'.format(100 * sum(reviews.rating>3) / len(reviews)))"
   ]
  },
  {
   "cell_type": "markdown",
   "metadata": {},
   "source": [
    "# Categories\n",
    "There are over 2.5 million different category entries applied to products in the dataset. This is the sum of the number of categories applied to all products, not the size of the set of unique categories."
   ]
  },
  {
   "cell_type": "code",
   "execution_count": 7,
   "metadata": {},
   "outputs": [
    {
     "name": "stdout",
     "output_type": "stream",
     "text": [
      "2509699\n"
     ]
    }
   ],
   "source": [
    "print(num_categories)"
   ]
  },
  {
   "cell_type": "markdown",
   "metadata": {},
   "source": [
    "The categories variable contains a dictionary of lists where the keys are the different product groups and the values are lists of each products' category entries. The line below simply sums up the length of all the lists as a check that the data was read properly. The sum below matches the count above, which provides some confidence in the data parsing."
   ]
  },
  {
   "cell_type": "code",
   "execution_count": 8,
   "metadata": {},
   "outputs": [
    {
     "name": "stdout",
     "output_type": "stream",
     "text": [
      "2509699\n"
     ]
    }
   ],
   "source": [
    "print(sum([len(x) for x in categories.values()]))"
   ]
  },
  {
   "cell_type": "markdown",
   "metadata": {},
   "source": [
    "If we only look at book categories, we see over half of all category entries in the dataset are book categories."
   ]
  },
  {
   "cell_type": "code",
   "execution_count": 9,
   "metadata": {},
   "outputs": [
    {
     "name": "stdout",
     "output_type": "stream",
     "text": [
      "1440329\n"
     ]
    }
   ],
   "source": [
    "print(len(categories['Book']))"
   ]
  },
  {
   "cell_type": "code",
   "execution_count": 10,
   "metadata": {},
   "outputs": [
    {
     "data": {
      "text/plain": [
       "['|Books[283155]|Subjects[1000]|Religion & Spirituality[22]|Christianity[12290]|Clergy[12360]|Preaching[12368]',\n",
       " '|Books[283155]|Subjects[1000]|Religion & Spirituality[22]|Christianity[12290]|Clergy[12360]|Sermons[12370]',\n",
       " '|Books[283155]|Subjects[1000]|Religion & Spirituality[22]|Earth-Based Religions[12472]|Wicca[12484]',\n",
       " '|Books[283155]|Subjects[1000]|Religion & Spirituality[22]|Earth-Based Religions[12472]|Witchcraft[12486]',\n",
       " '|Books[283155]|Subjects[1000]|Home & Garden[48]|Crafts & Hobbies[5126]|General[5144]',\n",
       " '|Books[283155]|Subjects[1000]|Religion & Spirituality[22]|Christianity[12290]|Reference[172810]|Commentaries[12155]|New Testament[12159]',\n",
       " '|Books[283155]|Subjects[1000]|Religion & Spirituality[22]|Christianity[12290]|Christian Living[12333]|Discipleship[12335]',\n",
       " '|Books[283155]|Subjects[1000]|Religion & Spirituality[22]|Christianity[12290]|Bibles[12059]|Translations[764432]|Life Application[572080]',\n",
       " '|Books[283155]|Subjects[1000]|Religion & Spirituality[22]|Bible & Other Sacred Texts[12056]|Bible[764430]|New Testament[572082]',\n",
       " '|Books[283155]|Subjects[1000]|Religion & Spirituality[22]|Christianity[12290]|Bibles[12059]|Study Guides, History & Reference[764438]|General[572094]']"
      ]
     },
     "execution_count": 10,
     "metadata": {},
     "output_type": "execute_result"
    }
   ],
   "source": [
    "categories['Book'][:10]"
   ]
  },
  {
   "cell_type": "markdown",
   "metadata": {},
   "source": [
    "After creating a set of the book category entries, we find there are almost 13,000 unique book categories."
   ]
  },
  {
   "cell_type": "code",
   "execution_count": 11,
   "metadata": {},
   "outputs": [
    {
     "name": "stdout",
     "output_type": "stream",
     "text": [
      "12853\n"
     ]
    }
   ],
   "source": [
    "cat_set = set(categories['Book'])\n",
    "print(len(cat_set))"
   ]
  },
  {
   "cell_type": "markdown",
   "metadata": {},
   "source": [
    "The line below creates a counter of the book categories, which is a special dictionary whose values contain the number of occurances in the collection used to create the counter."
   ]
  },
  {
   "cell_type": "code",
   "execution_count": 12,
   "metadata": {
    "collapsed": true
   },
   "outputs": [],
   "source": [
    "cat_counts = Counter(categories['Book'])"
   ]
  },
  {
   "cell_type": "markdown",
   "metadata": {},
   "source": [
    "To identify redundancy in the categorization, I first looked at categories that contained a couple keywords and appeared on more than 100 products. If we look at categories that contain the word fantasy, we see there are different entries for \"Science Fiction & Fantasy\" depending on if it is a teen novel, a book on tape, or general science fiction and fanctasy."
   ]
  },
  {
   "cell_type": "code",
   "execution_count": 13,
   "metadata": {},
   "outputs": [
    {
     "data": {
      "text/plain": [
       "['|Books[283155]|Subjects[1000]|Science Fiction & Fantasy[25]|Fantasy[16190]|History & Criticism[16203]',\n",
       " \"|Books[283155]|Subjects[1000]|Children's Books[4]|Literature[2966]|Science Fiction, Fantasy, Mystery & Horror[3013]|Comics & Graphic Novels[3014]\",\n",
       " '|Books[283155]|Subjects[1000]|Teens[28]|Science Fiction & Fantasy[17466]|Fantasy[17468]',\n",
       " \"|Books[283155]|Subjects[1000]|Children's Books[4]|Literature[2966]|Science Fiction, Fantasy, Mystery & Horror[3013]|Science Fiction, Fantasy, & Magic[3017]\",\n",
       " '|Books[283155]|Subjects[1000]|Teens[28]|Science Fiction & Fantasy[17466]|Science Fiction[17470]',\n",
       " \"|Books[283155]|Subjects[1000]|Children's Books[4]|Literature[2966]|Science Fiction, Fantasy, Mystery & Horror[3013]|Spine-Chilling Horror[3018]\",\n",
       " \"|Books[283155]|Subjects[1000]|Children's Books[4]|Literature[2966]|Science Fiction, Fantasy, Mystery & Horror[3013]|Mysteries, Espionage, & Detectives[3016]\",\n",
       " '|Books[283155]|Subjects[1000]|Science Fiction & Fantasy[25]|Fantasy[16190]|General[16199]',\n",
       " '|Books[283155]|Subjects[1000]|Science Fiction & Fantasy[25]|Science Fiction[16272]|Anthologies[16277]',\n",
       " '|Books[283155]|Subjects[1000]|Science Fiction & Fantasy[25]|Science Fiction[16272]|General[16282]',\n",
       " '|Books[283155]|Subjects[1000]|Science Fiction & Fantasy[25]|Science Fiction[16272]|Series[16306]|General[224692]',\n",
       " '|Books[283155]|Subjects[1000]|Science Fiction & Fantasy[25]|Science Fiction[16272]|Adventure[16273]',\n",
       " '|Books[283155]|Subjects[1000]|Science Fiction & Fantasy[25]|Media[16230]|Star Trek[16244]|General[265642]',\n",
       " '|Books[283155]|Subjects[1000]|Science Fiction & Fantasy[25]|Science Fiction[16272]|Alternate History[16275]',\n",
       " '|Books[283155]|Formats[504358]|Books on CD[69724]|Science Fiction & Fantasy[1038330]|Fantasy[1038332]',\n",
       " '|Books[283155]|Subjects[1000]|Entertainment[86]|Games[4402]|Role Playing & Fantasy[4442]|General[4445]',\n",
       " '|Books[283155]|Subjects[1000]|Science Fiction & Fantasy[25]|Media[16230]|Batman[16234]',\n",
       " '|Books[283155]|Subjects[1000]|Comics & Graphic Novels[4366]|Manga[4367]|Fantasy[13436171]',\n",
       " \"|Books[283155]|Subjects[1000]|Children's Books[4]|Series[3302]|Fantasy & Adventure[3328]|Harry Potter Books[281785]|General[285696]\",\n",
       " '|Books[283155]|Subjects[1000]|Science Fiction & Fantasy[25]|Fantasy[16190]|Series[16209]|General[408706]',\n",
       " '|Books[283155]|Subjects[1000]|Science Fiction & Fantasy[25]|Science Fiction[16272]|Series[16306]|Media Series[16290]|Star Wars[281542]',\n",
       " '|Books[283155]|Formats[504358]|Books on Tape[44]|Science Fiction & Fantasy[2324]|Fantasy[265561]',\n",
       " '|Books[283155]|Subjects[1000]|Science Fiction & Fantasy[25]|Authors, A-Z[14652]|( M )[15568]|McCaffrey, Anne[15599]|General[284612]',\n",
       " '|Books[283155]|Subjects[1000]|Science Fiction & Fantasy[25]|Fantasy[16190]|Historical[16201]',\n",
       " '|Books[283155]|Subjects[1000]|Science Fiction & Fantasy[25]|Fantasy[16190]|Epic[16197]',\n",
       " '|Books[283155]|Subjects[1000]|Science Fiction & Fantasy[25]|Fantasy[16190]|Contemporary[16195]',\n",
       " '|Books[283155]|Subjects[1000]|Science Fiction & Fantasy[25]|Fantasy[16190]|Magic & Wizards[16205]',\n",
       " '|Books[283155]|Subjects[1000]|Religion & Spirituality[22]|Fiction[12489]|Science Fiction & Fantasy[68145]',\n",
       " '|Books[283155]|Subjects[1000]|Science Fiction & Fantasy[25]|Science Fiction[16272]|High Tech[16286]',\n",
       " \"|Books[283155]|Formats[504358]|Books on Tape[44]|Children's Books[2247]|Fantasy[586098]\",\n",
       " '|Books[283155]|Subjects[1000]|Science Fiction & Fantasy[25]|Gaming[16211]|Dungeons & Dragons[16215]|General[468172]',\n",
       " '|Books[283155]|Formats[504358]|Books on Tape[44]|Science Fiction & Fantasy[2324]|Science Fiction[265562]',\n",
       " '|Books[283155]|Subjects[1000]|Romance[23]|Fantasy, Futuristic & Ghost[13356]',\n",
       " '|Books[283155]|Subjects[1000]|Science Fiction & Fantasy[25]|Authors, A-Z[14652]|( T )[16011]|Tolkien, Christopher[16035]',\n",
       " '|Books[283155]|Subjects[1000]|Science Fiction & Fantasy[25]|Authors, A-Z[14652]|( T )[16011]|Tolkien, J.R.R.[16038]|General[284619]',\n",
       " '|Books[283155]|Subjects[1000]|Science Fiction & Fantasy[25]|Fantasy[16190]|Anthologies[16193]',\n",
       " '|Books[283155]|Subjects[1000]|Horror[49]|Dark Fantasy[9803]']"
      ]
     },
     "execution_count": 13,
     "metadata": {},
     "output_type": "execute_result"
    }
   ],
   "source": [
    "[k for (k, v) in cat_counts.items() if 'Fantasy' in k and v > 100]"
   ]
  },
  {
   "cell_type": "markdown",
   "metadata": {},
   "source": [
    "Looking at \"Mystery & Thrillers\" we see something similar for books, books on tape, and books on CD."
   ]
  },
  {
   "cell_type": "code",
   "execution_count": 14,
   "metadata": {},
   "outputs": [
    {
     "data": {
      "text/plain": [
       "[\"|Books[283155]|Subjects[1000]|Children's Books[4]|Literature[2966]|Science Fiction, Fantasy, Mystery & Horror[3013]|Comics & Graphic Novels[3014]\",\n",
       " '|Books[283155]|Subjects[1000]|Mystery & Thrillers[18]|Mystery[10457]|General[10466]',\n",
       " '|Books[283155]|Subjects[1000]|Mystery & Thrillers[18]|General[605116]',\n",
       " '|Books[283155]|Formats[504358]|Books on Tape[44]|Mystery & Thrillers[2303]|Mystery[2304]',\n",
       " '|Books[283155]|Subjects[1000]|Mystery & Thrillers[18]|Mystery[10457]|British Detectives[10461]',\n",
       " '|Books[283155]|Subjects[1000]|Mystery & Thrillers[18]|Mystery[10457]|Sherlock Holmes[10477]',\n",
       " \"|Books[283155]|Subjects[1000]|Children's Books[4]|Literature[2966]|Science Fiction, Fantasy, Mystery & Horror[3013]|Science Fiction, Fantasy, & Magic[3017]\",\n",
       " \"|Books[283155]|Subjects[1000]|Children's Books[4]|Literature[2966]|Science Fiction, Fantasy, Mystery & Horror[3013]|Spine-Chilling Horror[3018]\",\n",
       " \"|Books[283155]|Subjects[1000]|Children's Books[4]|Literature[2966]|Science Fiction, Fantasy, Mystery & Horror[3013]|Mysteries, Espionage, & Detectives[3016]\",\n",
       " '|Books[283155]|Subjects[1000]|Mystery & Thrillers[18]|Thrillers[10484]|Spy Stories & Tales of Intrigue[10493]',\n",
       " '|Books[283155]|Subjects[1000]|Mystery & Thrillers[18]|Thrillers[10484]|General[10485]',\n",
       " '|Books[283155]|Subjects[1000]|Mystery & Thrillers[18]|Thrillers[10484]|Suspense[10495]',\n",
       " '|Books[283155]|Subjects[1000]|Mystery & Thrillers[18]|Mystery[10457]|Series[10475]',\n",
       " '|Books[283155]|Subjects[1000]|Mystery & Thrillers[18]|Mystery[10457]|Women Sleuths[10480]',\n",
       " '|Books[283155]|Subjects[1000]|Mystery & Thrillers[18]|Mystery[10457]|Historical[10470]',\n",
       " '|Books[283155]|Subjects[1000]|Mystery & Thrillers[18]|Police Procedurals[10482]',\n",
       " '|Books[283155]|Subjects[1000]|Mystery & Thrillers[18]|Mystery[10457]|Hard-Boiled[10468]',\n",
       " '|Books[283155]|Subjects[1000]|Religion & Spirituality[22]|Fiction[12489]|Mystery[12498]',\n",
       " '|Books[283155]|Subjects[1000]|Mystery & Thrillers[18]|Thrillers[10484]|Legal[10487]',\n",
       " '|Books[283155]|Subjects[1000]|Mystery & Thrillers[18]|Authors, A-Z[69300]|( C )[69303]|Christie, Agatha[69368]|General[284544]',\n",
       " '|Books[283155]|Subjects[1000]|Mystery & Thrillers[18]|Authors, A-Z[69300]|( C )[69303]|Christie, Agatha[69368]|Paperback[285791]',\n",
       " '|Books[283155]|Subjects[1000]|Mystery & Thrillers[18]|Thrillers[10484]|Technothrillers[10497]',\n",
       " \"|Books[283155]|Subjects[1000]|Children's Books[4]|Series[3302]|Mystery & Detective[3360]|The Boxcar Children[3366]\",\n",
       " \"|Books[283155]|Subjects[1000]|Children's Books[4]|Series[3302]|Mystery & Detective[3360]|Nancy Drew[3365]|Nancy Drew Mysteries[281816]\",\n",
       " '|Books[283155]|Subjects[1000]|Mystery & Thrillers[18]|Thrillers[10484]|Psychological & Suspense[10491]',\n",
       " '|Books[283155]|Formats[504358]|Books on Tape[44]|Mystery & Thrillers[2303]|Thriller[2305]',\n",
       " '|Books[283155]|Formats[504358]|Large Print[300950]|Mystery & Thrillers[300958]',\n",
       " '|Books[283155]|Subjects[1000]|Mystery & Thrillers[18]|Mystery[10457]|Cat Sleuths[10464]',\n",
       " '|Books[283155]|Formats[504358]|Books on CD[69724]|Mystery & Thrillers[1038316]']"
      ]
     },
     "execution_count": 14,
     "metadata": {},
     "output_type": "execute_result"
    }
   ],
   "source": [
    "[k for (k, v) in cat_counts.items() if 'Mystery' in k and v > 100]"
   ]
  },
  {
   "cell_type": "markdown",
   "metadata": {},
   "source": [
    "Looking at the most common categories we see the top two are very similar."
   ]
  },
  {
   "cell_type": "code",
   "execution_count": 15,
   "metadata": {},
   "outputs": [
    {
     "data": {
      "text/plain": [
       "[('|[265523]|Amazon.com Stores[285080]|Home & Office[764512]|Business & Investing Books[767740]|General[767880]',\n",
       "  18438),\n",
       " ('|Books[283155]|Subjects[1000]|Business & Investing[3]|General[2612]',\n",
       "  18436),\n",
       " ('|Books[283155]|Subjects[1000]|Reference[21]|General[408268]', 13701),\n",
       " ('|Books[283155]|Subjects[1000]|Biographies & Memoirs[2]|General[2375]',\n",
       "  12241),\n",
       " ('|Books[283155]|Subjects[1000]|Nonfiction[53]|Social Sciences[11232]|Sociology[11288]|General[11289]',\n",
       "  11779),\n",
       " ('|Books[283155]|Subjects[1000]|Literature & Fiction[17]|General[10125]|Contemporary[10129]',\n",
       "  11446),\n",
       " (\"|Books[283155]|Subjects[1000]|Children's Books[4]|Ages 4-8[2785]|General[170062]\",\n",
       "  11439),\n",
       " ('|Books[283155]|Subjects[1000]|Nonfiction[53]|Education[10605]|General[10635]',\n",
       "  8759),\n",
       " ('|Books[283155]|Subjects[1000]|Computers & Internet[5]|General[657762]',\n",
       "  8660),\n",
       " ('|Books[283155]|Subjects[1000]|Health, Mind & Body[10]|Psychology & Counseling[11119]|General[11175]',\n",
       "  8064)]"
      ]
     },
     "execution_count": 15,
     "metadata": {},
     "output_type": "execute_result"
    }
   ],
   "source": [
    "list(cat_counts.most_common())[:10]"
   ]
  },
  {
   "cell_type": "markdown",
   "metadata": {},
   "source": [
    "Looking at the least common categories we see a number of categories for authors that only appear once, which do not seem necessary. These also seem to be related to DVDs, which is confusing why they appear as book categories."
   ]
  },
  {
   "cell_type": "code",
   "execution_count": 16,
   "metadata": {},
   "outputs": [
    {
     "data": {
      "text/plain": [
       "[('|[139452]|DVD[130]|Genres[404276]|Comedy[163357]|By Theme[291103]|Unlikely Heroes[14155061]',\n",
       "  1),\n",
       " ('|[139452]|DVD[130]|Genres[404276]|Comedy[163357]|Comedy Stars[899692]|Robin Williams[899760]',\n",
       "  1),\n",
       " ('|[265523]|Amazon.com Stores[285080]|Amazon.com Outlet[517808]|Categories[526028]|DVD Outlet[734006]|Deals Under $20[734044]',\n",
       "  1),\n",
       " ('|[139452]|DVD[130]|Special Features[408328]|Titles[579510]|( F )[579522]',\n",
       "  1),\n",
       " (\"|[139452]|DVD[130]|Special Features[408328]|Today's Deals in DVD[409298]|Deals Under $20[565162]\",\n",
       "  1),\n",
       " ('|[139452]|DVD[130]|Directors[403502]|( M )[459370]|Mayfield, Les[459706]',\n",
       "  1),\n",
       " ('|[139452]|DVD[130]|Actors & Actresses[404278]|( Z )[453752]', 1),\n",
       " ('|[139452]|DVD[130]|Actors & Actresses[404278]|( W )[451116]|Williams, Robin[452712]',\n",
       "  1),\n",
       " ('|[139452]|DVD[130]|Actors & Actresses[404278]|( W )[451116]|Wheaton, Wil[452218]',\n",
       "  1),\n",
       " ('|[139452]|DVD[130]|Actors & Actresses[404278]|( S )[444858]|Stefanson, Leslie[447884]',\n",
       "  1)]"
      ]
     },
     "execution_count": 16,
     "metadata": {},
     "output_type": "execute_result"
    }
   ],
   "source": [
    "list(reversed(cat_counts.most_common()))[:10]"
   ]
  },
  {
   "cell_type": "markdown",
   "metadata": {},
   "source": [
    "If we naively remove all categories that appear less than 100 times, we are left with about 20% of the categories while keeping 85% of the category entries."
   ]
  },
  {
   "cell_type": "code",
   "execution_count": 17,
   "metadata": {},
   "outputs": [
    {
     "name": "stdout",
     "output_type": "stream",
     "text": [
      "Number of remaining categories: 2511\n",
      "Percentage of remaining categories: 19.54%\n",
      "Number of remaining entries: 1225068\n",
      "Percentage of remaining entries: 85.05%\n"
     ]
    }
   ],
   "source": [
    "threshold = 100\n",
    "temp = [v for v in cat_counts.values() if v > threshold]\n",
    "print('Number of remaining categories: {}'.format(len(temp)))\n",
    "print('Percentage of remaining categories: {:.2f}%'.format(100 * len(temp) / len(cat_set)))\n",
    "print('Number of remaining entries: {}'.format(sum(temp)))\n",
    "print('Percentage of remaining entries: {:.2f}%'.format(100 * sum(temp) / len(categories['Book'])))"
   ]
  },
  {
   "cell_type": "markdown",
   "metadata": {},
   "source": [
    "To further investigate category redundancy, I split all category entries on the separator. The subcategories variable contains all the subcategories regardless of their position in the product category hierarchy."
   ]
  },
  {
   "cell_type": "code",
   "execution_count": 18,
   "metadata": {},
   "outputs": [
    {
     "data": {
      "text/plain": [
       "['Books[283155]',\n",
       " 'Subjects[1000]',\n",
       " 'Religion & Spirituality[22]',\n",
       " 'Christianity[12290]',\n",
       " 'Clergy[12360]',\n",
       " 'Preaching[12368]',\n",
       " 'Books[283155]',\n",
       " 'Subjects[1000]',\n",
       " 'Religion & Spirituality[22]',\n",
       " 'Christianity[12290]']"
      ]
     },
     "execution_count": 18,
     "metadata": {},
     "output_type": "execute_result"
    }
   ],
   "source": [
    "subcategories['Book'][:10]"
   ]
  },
  {
   "cell_type": "markdown",
   "metadata": {},
   "source": [
    "The number of category entries in this view jumps up to 7.9 million."
   ]
  },
  {
   "cell_type": "code",
   "execution_count": 19,
   "metadata": {},
   "outputs": [
    {
     "name": "stdout",
     "output_type": "stream",
     "text": [
      "7891047\n"
     ]
    }
   ],
   "source": [
    "print(len(subcategories['Book']))"
   ]
  },
  {
   "cell_type": "markdown",
   "metadata": {},
   "source": [
    "There are almost 15,000 unique categories in this view. This is higher than the previous count, but that is expected since each category was split into multiple subcategories."
   ]
  },
  {
   "cell_type": "code",
   "execution_count": 20,
   "metadata": {},
   "outputs": [
    {
     "name": "stdout",
     "output_type": "stream",
     "text": [
      "14923\n"
     ]
    }
   ],
   "source": [
    "cat_set = set(subcategories['Book'])\n",
    "print(len(cat_set))"
   ]
  },
  {
   "cell_type": "markdown",
   "metadata": {},
   "source": [
    "Looking at subcategories that contain the keyword fantasy, we see that \"Science Fiction & Fantasy\" appears multiple times with different IDs."
   ]
  },
  {
   "cell_type": "code",
   "execution_count": 21,
   "metadata": {},
   "outputs": [
    {
     "data": {
      "text/plain": [
       "['Dark Fantasy[9803]',\n",
       " 'Fantasy[1038366]',\n",
       " 'Science Fiction & Fantasy[12038]',\n",
       " 'Science Fiction & Fantasy[1038330]',\n",
       " 'Science Fiction & Fantasy[68145]',\n",
       " 'Science Fiction & Fantasy[11754]',\n",
       " 'Science Fiction & Fantasy[13622611]',\n",
       " 'Fantasy[1038332]',\n",
       " 'Fantasy[586098]',\n",
       " 'Fantasy[265561]',\n",
       " 'Final Fantasy[768684]',\n",
       " 'Fantasy[3825111]',\n",
       " 'Role Playing & Fantasy[4442]',\n",
       " 'Fantasy & Adventure[3328]',\n",
       " 'Science Fiction & Fantasy[733908]',\n",
       " 'Final Fantasy[696960]',\n",
       " 'Science Fiction & Fantasy[2324]',\n",
       " 'Final Fantasy[3434]',\n",
       " 'Fantasy, Futuristic & Ghost[13356]',\n",
       " 'Fantasy[17468]',\n",
       " 'Science Fiction, Fantasy, & Magic[3017]',\n",
       " 'Fantasy[16190]',\n",
       " 'Science Fiction & Fantasy[25]',\n",
       " 'Science Fiction & Fantasy[17466]',\n",
       " 'Science Fiction & Fantasy[2504]',\n",
       " 'Fantasy[13436171]',\n",
       " 'Science Fiction & Fantasy[300959]',\n",
       " 'Science Fiction, Fantasy, Mystery & Horror[3013]']"
      ]
     },
     "execution_count": 21,
     "metadata": {},
     "output_type": "execute_result"
    }
   ],
   "source": [
    "[c for c in cat_set if 'Fantasy' in c]"
   ]
  },
  {
   "cell_type": "markdown",
   "metadata": {},
   "source": [
    "The same goes for \"Mystery & Thrillers.\""
   ]
  },
  {
   "cell_type": "code",
   "execution_count": 22,
   "metadata": {},
   "outputs": [
    {
     "data": {
      "text/plain": [
       "['Mystery & Detective[3360]',\n",
       " 'Mystery[2304]',\n",
       " 'Mystery & Thrillers[13622521]',\n",
       " 'Mystery[4393]',\n",
       " 'Mystery[13436191]',\n",
       " 'Mystery & Thrillers[2303]',\n",
       " 'Mystery & Thrillers[1038316]',\n",
       " 'Sports Mystery[281877]',\n",
       " 'Mystery[12034]',\n",
       " 'Babysitters Club Mystery[281811]',\n",
       " 'Mystery & Thrillers[300958]',\n",
       " 'Sebastian Barth Mystery[290730]',\n",
       " 'Mystery[400106]',\n",
       " 'Scooby-Doo Mystery[281836]',\n",
       " 'Mystery & Thrillers[301806]',\n",
       " 'Mystery & Thrillers[18]',\n",
       " 'Mystery[12498]',\n",
       " 'Mystery[10457]',\n",
       " 'Science Fiction, Fantasy, Mystery & Horror[3013]']"
      ]
     },
     "execution_count": 22,
     "metadata": {},
     "output_type": "execute_result"
    }
   ],
   "source": [
    "[c for c in cat_set if 'Mystery' in c]"
   ]
  },
  {
   "cell_type": "markdown",
   "metadata": {},
   "source": [
    "The presence of the category ID results in many duplicates. If we create a set of all subcategories with the ID removed, we see the number of unique subcategories is reduced by more than 40%. "
   ]
  },
  {
   "cell_type": "code",
   "execution_count": 23,
   "metadata": {},
   "outputs": [
    {
     "name": "stdout",
     "output_type": "stream",
     "text": [
      "8578\n",
      "57.48%\n"
     ]
    }
   ],
   "source": [
    "cat_noid = [re.sub('\\[\\d+\\]', '', x) for x in subcategories['Book']]\n",
    "cat_set_noid = set(cat_noid)\n",
    "print(len(cat_set_noid))\n",
    "print('{:.2f}%'.format(100 * len(cat_set_noid) / len(cat_set)))"
   ]
  },
  {
   "cell_type": "markdown",
   "metadata": {},
   "source": [
    "Looking at the least common subcategories we again see a number of authors only appear once."
   ]
  },
  {
   "cell_type": "code",
   "execution_count": 24,
   "metadata": {},
   "outputs": [
    {
     "data": {
      "text/plain": [
       "[('Unlikely Heroes', 1),\n",
       " ('Robin Williams', 1),\n",
       " ('Comedy Stars', 1),\n",
       " ('Titles', 1),\n",
       " ('Mayfield, Les', 1),\n",
       " ('Wheaton, Wil', 1),\n",
       " ('Stefanson, Leslie', 1),\n",
       " ('McDonald, Christopher', 1),\n",
       " ('McClurg, Edie', 1),\n",
       " ('Matthews, Dakin', 1)]"
      ]
     },
     "execution_count": 24,
     "metadata": {},
     "output_type": "execute_result"
    }
   ],
   "source": [
    "cat_counts = Counter(cat_noid)\n",
    "list(reversed(cat_counts.most_common()))[:10]"
   ]
  },
  {
   "cell_type": "markdown",
   "metadata": {},
   "source": [
    "If we remove all subcategories that appear less than 100 times, we are left with less than 15% of the original subcategories, but over 98% of the entries. There are a significant number of subcategories that are not used very often and potentially do not add much value."
   ]
  },
  {
   "cell_type": "code",
   "execution_count": 25,
   "metadata": {},
   "outputs": [
    {
     "name": "stdout",
     "output_type": "stream",
     "text": [
      "Number of remaining subcategories: 2159\n",
      "Percentage of remaining subcategories: 14.47%\n",
      "Number of remaining entries: 7761954\n",
      "Percentage of remaining entries: 98.36%\n"
     ]
    }
   ],
   "source": [
    "threshold = 100\n",
    "temp = [v for v in cat_counts.values() if v > threshold]\n",
    "print('Number of remaining subcategories: {}'.format(len(temp)))\n",
    "print('Percentage of remaining subcategories: {:.2f}%'.format(100 * len(temp) / len(cat_set)))\n",
    "print('Number of remaining entries: {}'.format(sum(temp)))\n",
    "print('Percentage of remaining entries: {:.2f}%'.format(100 * sum(temp) / len(subcategories['Book'])))"
   ]
  },
  {
   "cell_type": "markdown",
   "metadata": {},
   "source": [
    "The plot below shows the percentage of remaining subcategories and entries for a range of threshold values. The distribution decays quickly where even a threshold of only 20 reduces the number of subcategories by about 70% with little impact on the number of entries."
   ]
  },
  {
   "cell_type": "code",
   "execution_count": 26,
   "metadata": {},
   "outputs": [
    {
     "data": {
      "image/png": "[encoded data removed]",
      "text/plain": [
       "<matplotlib.figure.Figure at 0x1e1e48160>"
      ]
     },
     "metadata": {},
     "output_type": "display_data"
    }
   ],
   "source": [
    "subcat = []\n",
    "entries = []\n",
    "limit = 100\n",
    "\n",
    "for threshold in range(limit+1):\n",
    "    temp = [v for v in cat_counts.values() if v > threshold]\n",
    "    subcat += [len(temp) / len(cat_set)]\n",
    "    entries += [sum(temp) / len(subcategories['Book'])]\n",
    "\n",
    "plt.plot(range(limit+1), subcat)\n",
    "plt.plot(range(limit+1), entries)\n",
    "plt.grid()\n",
    "plt.xlabel('Threshold for Removal')\n",
    "plt.ylabel('Percent Remaining')\n",
    "plt.legend(['Subcategories', 'Entries'])\n",
    "plt.show()"
   ]
  },
  {
   "cell_type": "markdown",
   "metadata": {
    "collapsed": true
   },
   "source": [
    "# Algorithm Thinking\n",
    "If I were to build the product categorization from scratch, I would use a clustering technique that used product information and information on co-purchased products to group products. Once the products are grouped, I would look at the most common existing categories for the products in each group and apply them to all products in each group. If the goal is to not use the existing product categories at all, then I would apply categories to a select few popular products across a range of perceived categories and apply the categories to all products in the groups."
   ]
  },
  {
   "cell_type": "markdown",
   "metadata": {
    "collapsed": true
   },
   "source": [
    "## Product Thinking\n",
    "I absolutely feel that users should be able to see categories for products. That being said, I'm not sure that seeing the category hierarchy is all that important, which might bog down users and provide too much information. Showing customers similar/co-purchased products is a good idea because it can introduce users to products they are not familiar with and potentially increase sales. I have certainly purchased items on Amazon I learned about after seeing them as similar products to items I was already interested in. It is also a good idea to show customers ratings and reviews because it helps give a sense of product quality. While ratings are subject to manipulation and bias, they can still be a helpful tool provided users are cognizant of their issues and read reviews in addition to looking at ratings."
   ]
  }
 ],
 "metadata": {
  "kernelspec": {
   "display_name": "Python 3",
   "language": "python",
   "name": "python3"
  },
  "language_info": {
   "codemirror_mode": {
    "name": "ipython",
    "version": 3
   },
   "file_extension": ".py",
   "mimetype": "text/x-python",
   "name": "python",
   "nbconvert_exporter": "python",
   "pygments_lexer": "ipython3",
   "version": "3.6.2"
  }
 },
 "nbformat": 4,
 "nbformat_minor": 2
}
